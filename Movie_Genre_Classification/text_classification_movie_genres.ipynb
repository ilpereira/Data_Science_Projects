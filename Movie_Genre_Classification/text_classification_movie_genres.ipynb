{
  "nbformat": 4,
  "nbformat_minor": 0,
  "metadata": {
    "colab": {
      "name": "text_classification_wiki.ipynb",
      "provenance": [],
      "collapsed_sections": [],
      "toc_visible": true
    },
    "kernelspec": {
      "display_name": "Python 3",
      "language": "python",
      "name": "python3"
    },
    "language_info": {
      "codemirror_mode": {
        "name": "ipython",
        "version": 3
      },
      "file_extension": ".py",
      "mimetype": "text/x-python",
      "name": "python",
      "nbconvert_exporter": "python",
      "pygments_lexer": "ipython3",
      "version": "3.7.6"
    }
  },
  "cells": [
    {
      "cell_type": "markdown",
      "metadata": {
        "colab_type": "text",
        "id": "bBA2NvboLn1l"
      },
      "source": [
        "# Plot-based Movie Genre Classification\n",
        "\n",
        "This notebook presents an experiment relateed to one of the most common tasks in Natural Language Processing: text classification.\n",
        "\n",
        "A movie genre classification based on plots is performed. The chosen dataset can be found at https://www.kaggle.com/jrobischon/wikipedia-movie-plots. This dataset contains plots (scraped from Wikipedia) of 34886 movies from many nationalities.\n",
        "\n",
        "Two types of classification tasks are presented: multiclass and binary. The former considers the 10 most frequent genres in the dataset, while the latter considers only the two most frequent genres (drama and comedy).\n",
        "\n",
        "The notebook presents a simple data exploratory analysis (since the focus is on the machine learning part) and all steps necessary for the classification task, from data preprocessing to the presentation of the final results along with a detailed analysis at the end. \n",
        "\n",
        "The final experiments on multiclass classification were performed in the Google Colab environment using its GPU resources. Due to resource availability issues, the final experiments on binary classification were performed using a Google Cloud Deep Learning VM with an NVIDIA Tesla K80 (the Google Colab runtime was connected to this VM)."
      ]
    },
    {
      "cell_type": "code",
      "metadata": {
        "colab_type": "code",
        "id": "oixb9r57KvOr",
        "colab": {
          "base_uri": "https://localhost:8080/",
          "height": 54
        },
        "outputId": "f9105753-89b3-46a5-8057-18fc8542c69b"
      },
      "source": [
        "import pandas as pd\n",
        "import numpy as np\n",
        "import ast\n",
        "import string\n",
        "import re\n",
        "import matplotlib.pyplot as plt\n",
        "from wordcloud import WordCloud\n",
        "\n",
        "from sklearn.preprocessing import LabelEncoder\n",
        "from sklearn.model_selection import train_test_split\n",
        "from sklearn.metrics import confusion_matrix\n",
        "from sklearn.feature_extraction.text import TfidfVectorizer\n",
        "\n",
        "import itertools\n",
        "\n",
        "import nltk\n",
        "nltk.download('stopwords')\n",
        "from nltk.corpus import stopwords\n",
        "from nltk.stem.porter import PorterStemmer\n",
        "\n",
        "from tensorflow.keras.layers import Input, Embedding, LSTM, Dense, Dropout, Conv1D, MaxPool1D, GlobalMaxPool1D\n",
        "from tensorflow.keras.models import Model\n",
        "from tensorflow.keras.models import load_model\n",
        "from tensorflow.keras.preprocessing.text import Tokenizer\n",
        "from tensorflow.keras.preprocessing.sequence import pad_sequences\n",
        "from tensorflow.keras.callbacks import ModelCheckpoint, ReduceLROnPlateau"
      ],
      "execution_count": 5,
      "outputs": [
        {
          "output_type": "stream",
          "text": [
            "[nltk_data] Downloading package stopwords to /root/nltk_data...\n",
            "[nltk_data]   Unzipping corpora/stopwords.zip.\n"
          ],
          "name": "stdout"
        }
      ]
    },
    {
      "cell_type": "markdown",
      "metadata": {
        "colab_type": "text",
        "id": "-8JDUMnjnO9-"
      },
      "source": [
        "## Downloading the dataset"
      ]
    },
    {
      "cell_type": "code",
      "metadata": {
        "colab_type": "code",
        "id": "4IpGdhG3lWzo",
        "colab": {
          "base_uri": "https://localhost:8080/",
          "height": 72
        },
        "outputId": "52c7139f-3406-467a-b4d7-9a58b5b8713c"
      },
      "source": [
        "!pip install -q kaggle\n",
        "\n",
        "!mkdir -p ~/.kaggle\n",
        "\n",
        "!cp kaggle.json ~/.kaggle\n",
        "\n",
        "!chmod 600 /root/.kaggle/kaggle.json\n",
        "\n",
        "!kaggle datasets download -d jrobischon/wikipedia-movie-plots"
      ],
      "execution_count": 2,
      "outputs": [
        {
          "output_type": "stream",
          "text": [
            "Downloading wikipedia-movie-plots.zip to /content\n",
            " 30% 9.00M/29.9M [00:00<00:00, 27.0MB/s]\n",
            "100% 29.9M/29.9M [00:00<00:00, 60.9MB/s]\n"
          ],
          "name": "stdout"
        }
      ]
    },
    {
      "cell_type": "code",
      "metadata": {
        "colab_type": "code",
        "id": "zr0bxMiCldbZ",
        "colab": {
          "base_uri": "https://localhost:8080/",
          "height": 54
        },
        "outputId": "2f9511ee-0055-4a4d-fe4b-d77762b7b4e4"
      },
      "source": [
        "!unzip ./wikipedia-movie-plots.zip"
      ],
      "execution_count": 3,
      "outputs": [
        {
          "output_type": "stream",
          "text": [
            "Archive:  ./wikipedia-movie-plots.zip\n",
            "  inflating: wiki_movie_plots_deduped.csv  \n"
          ],
          "name": "stdout"
        }
      ]
    },
    {
      "cell_type": "markdown",
      "metadata": {
        "colab_type": "text",
        "id": "V93uudVtQh1k"
      },
      "source": [
        "## (Simple) Exploratory Data Analysis"
      ]
    },
    {
      "cell_type": "code",
      "metadata": {
        "colab_type": "code",
        "id": "XOV-oO1yNy8j",
        "colab": {
          "base_uri": "https://localhost:8080/",
          "height": 206
        },
        "outputId": "894f4f1b-1640-4659-f24b-a6e8296ca12a"
      },
      "source": [
        "df = pd.read_csv('/content/wiki_movie_plots_deduped.csv')\n",
        "df.head()"
      ],
      "execution_count": 6,
      "outputs": [
        {
          "output_type": "execute_result",
          "data": {
            "text/html": [
              "<div>\n",
              "<style scoped>\n",
              "    .dataframe tbody tr th:only-of-type {\n",
              "        vertical-align: middle;\n",
              "    }\n",
              "\n",
              "    .dataframe tbody tr th {\n",
              "        vertical-align: top;\n",
              "    }\n",
              "\n",
              "    .dataframe thead th {\n",
              "        text-align: right;\n",
              "    }\n",
              "</style>\n",
              "<table border=\"1\" class=\"dataframe\">\n",
              "  <thead>\n",
              "    <tr style=\"text-align: right;\">\n",
              "      <th></th>\n",
              "      <th>Release Year</th>\n",
              "      <th>Title</th>\n",
              "      <th>Origin/Ethnicity</th>\n",
              "      <th>Director</th>\n",
              "      <th>Cast</th>\n",
              "      <th>Genre</th>\n",
              "      <th>Wiki Page</th>\n",
              "      <th>Plot</th>\n",
              "    </tr>\n",
              "  </thead>\n",
              "  <tbody>\n",
              "    <tr>\n",
              "      <th>0</th>\n",
              "      <td>1901</td>\n",
              "      <td>Kansas Saloon Smashers</td>\n",
              "      <td>American</td>\n",
              "      <td>Unknown</td>\n",
              "      <td>NaN</td>\n",
              "      <td>unknown</td>\n",
              "      <td>https://en.wikipedia.org/wiki/Kansas_Saloon_Sm...</td>\n",
              "      <td>A bartender is working at a saloon, serving dr...</td>\n",
              "    </tr>\n",
              "    <tr>\n",
              "      <th>1</th>\n",
              "      <td>1901</td>\n",
              "      <td>Love by the Light of the Moon</td>\n",
              "      <td>American</td>\n",
              "      <td>Unknown</td>\n",
              "      <td>NaN</td>\n",
              "      <td>unknown</td>\n",
              "      <td>https://en.wikipedia.org/wiki/Love_by_the_Ligh...</td>\n",
              "      <td>The moon, painted with a smiling face hangs ov...</td>\n",
              "    </tr>\n",
              "    <tr>\n",
              "      <th>2</th>\n",
              "      <td>1901</td>\n",
              "      <td>The Martyred Presidents</td>\n",
              "      <td>American</td>\n",
              "      <td>Unknown</td>\n",
              "      <td>NaN</td>\n",
              "      <td>unknown</td>\n",
              "      <td>https://en.wikipedia.org/wiki/The_Martyred_Pre...</td>\n",
              "      <td>The film, just over a minute long, is composed...</td>\n",
              "    </tr>\n",
              "    <tr>\n",
              "      <th>3</th>\n",
              "      <td>1901</td>\n",
              "      <td>Terrible Teddy, the Grizzly King</td>\n",
              "      <td>American</td>\n",
              "      <td>Unknown</td>\n",
              "      <td>NaN</td>\n",
              "      <td>unknown</td>\n",
              "      <td>https://en.wikipedia.org/wiki/Terrible_Teddy,_...</td>\n",
              "      <td>Lasting just 61 seconds and consisting of two ...</td>\n",
              "    </tr>\n",
              "    <tr>\n",
              "      <th>4</th>\n",
              "      <td>1902</td>\n",
              "      <td>Jack and the Beanstalk</td>\n",
              "      <td>American</td>\n",
              "      <td>George S. Fleming, Edwin S. Porter</td>\n",
              "      <td>NaN</td>\n",
              "      <td>unknown</td>\n",
              "      <td>https://en.wikipedia.org/wiki/Jack_and_the_Bea...</td>\n",
              "      <td>The earliest known adaptation of the classic f...</td>\n",
              "    </tr>\n",
              "  </tbody>\n",
              "</table>\n",
              "</div>"
            ],
            "text/plain": [
              "   Release Year  ...                                               Plot\n",
              "0          1901  ...  A bartender is working at a saloon, serving dr...\n",
              "1          1901  ...  The moon, painted with a smiling face hangs ov...\n",
              "2          1901  ...  The film, just over a minute long, is composed...\n",
              "3          1901  ...  Lasting just 61 seconds and consisting of two ...\n",
              "4          1902  ...  The earliest known adaptation of the classic f...\n",
              "\n",
              "[5 rows x 8 columns]"
            ]
          },
          "metadata": {
            "tags": []
          },
          "execution_count": 6
        }
      ]
    },
    {
      "cell_type": "code",
      "metadata": {
        "colab_type": "code",
        "id": "woxhIjUVNzXe",
        "colab": {
          "base_uri": "https://localhost:8080/",
          "height": 35
        },
        "outputId": "2db389c3-6417-43ff-9942-8bb33517a97d"
      },
      "source": [
        "df.shape"
      ],
      "execution_count": null,
      "outputs": [
        {
          "output_type": "execute_result",
          "data": {
            "text/plain": [
              "(34886, 8)"
            ]
          },
          "metadata": {
            "tags": []
          },
          "execution_count": 14
        }
      ]
    },
    {
      "cell_type": "code",
      "metadata": {
        "id": "V9kabpbHH9Tr",
        "colab_type": "code",
        "colab": {
          "base_uri": "https://localhost:8080/",
          "height": 182
        },
        "outputId": "0ff2fe57-f203-45df-9b03-825517f33ac3"
      },
      "source": [
        "df.isna().sum()"
      ],
      "execution_count": 7,
      "outputs": [
        {
          "output_type": "execute_result",
          "data": {
            "text/plain": [
              "Release Year           0\n",
              "Title                  0\n",
              "Origin/Ethnicity       0\n",
              "Director               0\n",
              "Cast                1422\n",
              "Genre                  0\n",
              "Wiki Page              0\n",
              "Plot                   0\n",
              "dtype: int64"
            ]
          },
          "metadata": {
            "tags": []
          },
          "execution_count": 7
        }
      ]
    },
    {
      "cell_type": "code",
      "metadata": {
        "id": "kA4iWGZLIXO6",
        "colab_type": "code",
        "colab": {
          "base_uri": "https://localhost:8080/",
          "height": 394
        },
        "outputId": "fd4066b6-b0f4-42fe-c764-6c996ef456c8"
      },
      "source": [
        "df.describe(include='all')"
      ],
      "execution_count": 8,
      "outputs": [
        {
          "output_type": "execute_result",
          "data": {
            "text/html": [
              "<div>\n",
              "<style scoped>\n",
              "    .dataframe tbody tr th:only-of-type {\n",
              "        vertical-align: middle;\n",
              "    }\n",
              "\n",
              "    .dataframe tbody tr th {\n",
              "        vertical-align: top;\n",
              "    }\n",
              "\n",
              "    .dataframe thead th {\n",
              "        text-align: right;\n",
              "    }\n",
              "</style>\n",
              "<table border=\"1\" class=\"dataframe\">\n",
              "  <thead>\n",
              "    <tr style=\"text-align: right;\">\n",
              "      <th></th>\n",
              "      <th>Release Year</th>\n",
              "      <th>Title</th>\n",
              "      <th>Origin/Ethnicity</th>\n",
              "      <th>Director</th>\n",
              "      <th>Cast</th>\n",
              "      <th>Genre</th>\n",
              "      <th>Wiki Page</th>\n",
              "      <th>Plot</th>\n",
              "    </tr>\n",
              "  </thead>\n",
              "  <tbody>\n",
              "    <tr>\n",
              "      <th>count</th>\n",
              "      <td>34886.000000</td>\n",
              "      <td>34886</td>\n",
              "      <td>34886</td>\n",
              "      <td>34886</td>\n",
              "      <td>33464</td>\n",
              "      <td>34886</td>\n",
              "      <td>34886</td>\n",
              "      <td>34886</td>\n",
              "    </tr>\n",
              "    <tr>\n",
              "      <th>unique</th>\n",
              "      <td>NaN</td>\n",
              "      <td>32432</td>\n",
              "      <td>24</td>\n",
              "      <td>12593</td>\n",
              "      <td>32182</td>\n",
              "      <td>2265</td>\n",
              "      <td>34070</td>\n",
              "      <td>33869</td>\n",
              "    </tr>\n",
              "    <tr>\n",
              "      <th>top</th>\n",
              "      <td>NaN</td>\n",
              "      <td>The Three Musketeers</td>\n",
              "      <td>American</td>\n",
              "      <td>Unknown</td>\n",
              "      <td>Tom and Jerry</td>\n",
              "      <td>unknown</td>\n",
              "      <td>https://en.wikipedia.org/wiki/Himitsu_Sentai_G...</td>\n",
              "      <td>(マッスル人参争奪！超人大戦争, Massuru Ninjin Soudatsu! Chou...</td>\n",
              "    </tr>\n",
              "    <tr>\n",
              "      <th>freq</th>\n",
              "      <td>NaN</td>\n",
              "      <td>8</td>\n",
              "      <td>17377</td>\n",
              "      <td>1124</td>\n",
              "      <td>80</td>\n",
              "      <td>6083</td>\n",
              "      <td>5</td>\n",
              "      <td>6</td>\n",
              "    </tr>\n",
              "    <tr>\n",
              "      <th>mean</th>\n",
              "      <td>1981.314252</td>\n",
              "      <td>NaN</td>\n",
              "      <td>NaN</td>\n",
              "      <td>NaN</td>\n",
              "      <td>NaN</td>\n",
              "      <td>NaN</td>\n",
              "      <td>NaN</td>\n",
              "      <td>NaN</td>\n",
              "    </tr>\n",
              "    <tr>\n",
              "      <th>std</th>\n",
              "      <td>27.815174</td>\n",
              "      <td>NaN</td>\n",
              "      <td>NaN</td>\n",
              "      <td>NaN</td>\n",
              "      <td>NaN</td>\n",
              "      <td>NaN</td>\n",
              "      <td>NaN</td>\n",
              "      <td>NaN</td>\n",
              "    </tr>\n",
              "    <tr>\n",
              "      <th>min</th>\n",
              "      <td>1901.000000</td>\n",
              "      <td>NaN</td>\n",
              "      <td>NaN</td>\n",
              "      <td>NaN</td>\n",
              "      <td>NaN</td>\n",
              "      <td>NaN</td>\n",
              "      <td>NaN</td>\n",
              "      <td>NaN</td>\n",
              "    </tr>\n",
              "    <tr>\n",
              "      <th>25%</th>\n",
              "      <td>1957.000000</td>\n",
              "      <td>NaN</td>\n",
              "      <td>NaN</td>\n",
              "      <td>NaN</td>\n",
              "      <td>NaN</td>\n",
              "      <td>NaN</td>\n",
              "      <td>NaN</td>\n",
              "      <td>NaN</td>\n",
              "    </tr>\n",
              "    <tr>\n",
              "      <th>50%</th>\n",
              "      <td>1988.000000</td>\n",
              "      <td>NaN</td>\n",
              "      <td>NaN</td>\n",
              "      <td>NaN</td>\n",
              "      <td>NaN</td>\n",
              "      <td>NaN</td>\n",
              "      <td>NaN</td>\n",
              "      <td>NaN</td>\n",
              "    </tr>\n",
              "    <tr>\n",
              "      <th>75%</th>\n",
              "      <td>2007.000000</td>\n",
              "      <td>NaN</td>\n",
              "      <td>NaN</td>\n",
              "      <td>NaN</td>\n",
              "      <td>NaN</td>\n",
              "      <td>NaN</td>\n",
              "      <td>NaN</td>\n",
              "      <td>NaN</td>\n",
              "    </tr>\n",
              "    <tr>\n",
              "      <th>max</th>\n",
              "      <td>2017.000000</td>\n",
              "      <td>NaN</td>\n",
              "      <td>NaN</td>\n",
              "      <td>NaN</td>\n",
              "      <td>NaN</td>\n",
              "      <td>NaN</td>\n",
              "      <td>NaN</td>\n",
              "      <td>NaN</td>\n",
              "    </tr>\n",
              "  </tbody>\n",
              "</table>\n",
              "</div>"
            ],
            "text/plain": [
              "        Release Year  ...                                               Plot\n",
              "count   34886.000000  ...                                              34886\n",
              "unique           NaN  ...                                              33869\n",
              "top              NaN  ...  (マッスル人参争奪！超人大戦争, Massuru Ninjin Soudatsu! Chou...\n",
              "freq             NaN  ...                                                  6\n",
              "mean     1981.314252  ...                                                NaN\n",
              "std        27.815174  ...                                                NaN\n",
              "min      1901.000000  ...                                                NaN\n",
              "25%      1957.000000  ...                                                NaN\n",
              "50%      1988.000000  ...                                                NaN\n",
              "75%      2007.000000  ...                                                NaN\n",
              "max      2017.000000  ...                                                NaN\n",
              "\n",
              "[11 rows x 8 columns]"
            ]
          },
          "metadata": {
            "tags": []
          },
          "execution_count": 8
        }
      ]
    },
    {
      "cell_type": "code",
      "metadata": {
        "colab_type": "code",
        "id": "Xhv6lhhcgeWz",
        "colab": {
          "base_uri": "https://localhost:8080/",
          "height": 35
        },
        "outputId": "90d4e238-3a61-4b86-d3dd-cfd78fddf61a"
      },
      "source": [
        "len(np.unique(df['Genre']))"
      ],
      "execution_count": null,
      "outputs": [
        {
          "output_type": "execute_result",
          "data": {
            "text/plain": [
              "2265"
            ]
          },
          "metadata": {
            "tags": []
          },
          "execution_count": 7
        }
      ]
    },
    {
      "cell_type": "markdown",
      "metadata": {
        "colab_type": "text",
        "id": "GkgKYfiugxcp"
      },
      "source": [
        "There are too many genres to display. Let's show only the top 20."
      ]
    },
    {
      "cell_type": "code",
      "metadata": {
        "colab_type": "code",
        "id": "kIW0yFCJgHJe",
        "colab": {
          "base_uri": "https://localhost:8080/",
          "height": 390
        },
        "outputId": "539bc54e-bb72-4f7c-ca4a-2f1b21b75fff"
      },
      "source": [
        "df['Genre'].value_counts()[:20].plot.bar(title='Number of movies per genre')\n",
        "plt.xlabel('Genres')\n",
        "plt.ylabel('# movies')"
      ],
      "execution_count": null,
      "outputs": [
        {
          "output_type": "execute_result",
          "data": {
            "text/plain": [
              "Text(0, 0.5, '# movies')"
            ]
          },
          "metadata": {
            "tags": []
          },
          "execution_count": 8
        },
        {
          "output_type": "display_data",
          "data": {
            "image/png": "[encoded data removed]",
            "text/plain": [
              "<Figure size 432x288 with 1 Axes>"
            ]
          },
          "metadata": {
            "tags": [],
            "needs_background": "light"
          }
        }
      ]
    },
    {
      "cell_type": "markdown",
      "metadata": {
        "id": "70U32izRIEzq",
        "colab_type": "text"
      },
      "source": [
        "Plotting the number of movies per origin/ethnicity."
      ]
    },
    {
      "cell_type": "code",
      "metadata": {
        "colab_type": "code",
        "id": "b_HElZRng6r0",
        "colab": {
          "base_uri": "https://localhost:8080/",
          "height": 354
        },
        "outputId": "f79a0bae-67a5-46e2-c5c6-8b5cb9449a32"
      },
      "source": [
        "df['Origin/Ethnicity'].value_counts().plot.bar(title='Number of movies per origin/ethnicity')\n",
        "plt.xlabel('Origin')\n",
        "plt.ylabel('# movies')\n",
        "plt.show()"
      ],
      "execution_count": null,
      "outputs": [
        {
          "output_type": "display_data",
          "data": {
            "image/png": "[encoded data removed]",
            "text/plain": [
              "<Figure size 432x288 with 1 Axes>"
            ]
          },
          "metadata": {
            "tags": [],
            "needs_background": "light"
          }
        }
      ]
    },
    {
      "cell_type": "markdown",
      "metadata": {
        "id": "xoZtlFGkIOZB",
        "colab_type": "text"
      },
      "source": [
        "Plotting the number of movies per release year."
      ]
    },
    {
      "cell_type": "code",
      "metadata": {
        "colab_type": "code",
        "id": "0zWoRqBcoL0E",
        "colab": {
          "base_uri": "https://localhost:8080/",
          "height": 295
        },
        "outputId": "3a7428d8-fea7-4d14-e4c6-d46c265d9b75"
      },
      "source": [
        "df['Release Year'].value_counts().sort_index(ascending=True).plot.line(title='Number of movies per release year')\n",
        "plt.xlabel('Year')\n",
        "plt.ylabel('# movies')\n",
        "plt.show()"
      ],
      "execution_count": null,
      "outputs": [
        {
          "output_type": "display_data",
          "data": {
            "image/png": "[encoded data removed]",
            "text/plain": [
              "<Figure size 432x288 with 1 Axes>"
            ]
          },
          "metadata": {
            "tags": [],
            "needs_background": "light"
          }
        }
      ]
    },
    {
      "cell_type": "markdown",
      "metadata": {
        "id": "N4-1dU96H0eu",
        "colab_type": "text"
      },
      "source": [
        "Checking the most frequent words in the plots."
      ]
    },
    {
      "cell_type": "code",
      "metadata": {
        "colab_type": "code",
        "id": "GUMbqLKiifYK",
        "colab": {
          "base_uri": "https://localhost:8080/",
          "height": 466
        },
        "outputId": "f9606943-c3da-4958-edef-ff0d60707f6b"
      },
      "source": [
        "wordcloud = WordCloud(width=900, height=900, max_font_size=120, max_words=80).generate(\" \".join(df['Plot']))\n",
        "\n",
        "plt.subplots(figsize=(16, 8))\n",
        "plt.imshow(wordcloud)\n",
        "plt.axis('off')\n",
        "plt.show()"
      ],
      "execution_count": null,
      "outputs": [
        {
          "output_type": "display_data",
          "data": {
            "image/png": "[encoded data removed]",
            "text/plain": [
              "<Figure size 1152x576 with 1 Axes>"
            ]
          },
          "metadata": {
            "tags": [],
            "needs_background": "light"
          }
        }
      ]
    },
    {
      "cell_type": "markdown",
      "metadata": {
        "colab_type": "text",
        "id": "QvtioX9ut3ww"
      },
      "source": [
        "## Data Preprocessing"
      ]
    },
    {
      "cell_type": "markdown",
      "metadata": {
        "colab_type": "text",
        "id": "YhrmdZnjt_Gn"
      },
      "source": [
        "We are only interested in two columns: Genre and Plot."
      ]
    },
    {
      "cell_type": "code",
      "metadata": {
        "colab_type": "code",
        "id": "CHmKflZANzSf",
        "colab": {
          "base_uri": "https://localhost:8080/",
          "height": 206
        },
        "outputId": "48d0ca4a-0f88-4831-eb63-e0347c55301c"
      },
      "source": [
        "df = df[['Genre', 'Plot']]\n",
        "df.head()"
      ],
      "execution_count": null,
      "outputs": [
        {
          "output_type": "execute_result",
          "data": {
            "text/html": [
              "<div>\n",
              "<style scoped>\n",
              "    .dataframe tbody tr th:only-of-type {\n",
              "        vertical-align: middle;\n",
              "    }\n",
              "\n",
              "    .dataframe tbody tr th {\n",
              "        vertical-align: top;\n",
              "    }\n",
              "\n",
              "    .dataframe thead th {\n",
              "        text-align: right;\n",
              "    }\n",
              "</style>\n",
              "<table border=\"1\" class=\"dataframe\">\n",
              "  <thead>\n",
              "    <tr style=\"text-align: right;\">\n",
              "      <th></th>\n",
              "      <th>Genre</th>\n",
              "      <th>Plot</th>\n",
              "    </tr>\n",
              "  </thead>\n",
              "  <tbody>\n",
              "    <tr>\n",
              "      <th>0</th>\n",
              "      <td>unknown</td>\n",
              "      <td>A bartender is working at a saloon, serving dr...</td>\n",
              "    </tr>\n",
              "    <tr>\n",
              "      <th>1</th>\n",
              "      <td>unknown</td>\n",
              "      <td>The moon, painted with a smiling face hangs ov...</td>\n",
              "    </tr>\n",
              "    <tr>\n",
              "      <th>2</th>\n",
              "      <td>unknown</td>\n",
              "      <td>The film, just over a minute long, is composed...</td>\n",
              "    </tr>\n",
              "    <tr>\n",
              "      <th>3</th>\n",
              "      <td>unknown</td>\n",
              "      <td>Lasting just 61 seconds and consisting of two ...</td>\n",
              "    </tr>\n",
              "    <tr>\n",
              "      <th>4</th>\n",
              "      <td>unknown</td>\n",
              "      <td>The earliest known adaptation of the classic f...</td>\n",
              "    </tr>\n",
              "  </tbody>\n",
              "</table>\n",
              "</div>"
            ],
            "text/plain": [
              "     Genre                                               Plot\n",
              "0  unknown  A bartender is working at a saloon, serving dr...\n",
              "1  unknown  The moon, painted with a smiling face hangs ov...\n",
              "2  unknown  The film, just over a minute long, is composed...\n",
              "3  unknown  Lasting just 61 seconds and consisting of two ...\n",
              "4  unknown  The earliest known adaptation of the classic f..."
            ]
          },
          "metadata": {
            "tags": []
          },
          "execution_count": 15
        }
      ]
    },
    {
      "cell_type": "markdown",
      "metadata": {
        "id": "__FrUtnyzxVg",
        "colab_type": "text"
      },
      "source": [
        "Checking the distribution of the top 10 genres (plus 'unknown')."
      ]
    },
    {
      "cell_type": "code",
      "metadata": {
        "colab_type": "code",
        "id": "I6v0H11YnzJe",
        "colab": {
          "base_uri": "https://localhost:8080/",
          "height": 237
        },
        "outputId": "98ee7d39-e3c7-448a-e1e4-b1f8f83c33c8"
      },
      "source": [
        "df['Genre'].value_counts()[:11]"
      ],
      "execution_count": null,
      "outputs": [
        {
          "output_type": "execute_result",
          "data": {
            "text/plain": [
              "unknown      6083\n",
              "drama        5964\n",
              "comedy       4379\n",
              "horror       1167\n",
              "action       1098\n",
              "thriller      966\n",
              "romance       923\n",
              "western       865\n",
              "crime         568\n",
              "adventure     526\n",
              "musical       467\n",
              "Name: Genre, dtype: int64"
            ]
          },
          "metadata": {
            "tags": []
          },
          "execution_count": 17
        }
      ]
    },
    {
      "cell_type": "markdown",
      "metadata": {
        "id": "8trW46WdNbRz",
        "colab_type": "text"
      },
      "source": [
        "The 'unknown' genre will not be taken into account, so let's drop all samples which were classified as unknown."
      ]
    },
    {
      "cell_type": "code",
      "metadata": {
        "id": "cJtesm_EVbGK",
        "colab_type": "code",
        "colab": {
          "base_uri": "https://localhost:8080/",
          "height": 219
        },
        "outputId": "c2018be6-8dc8-48a9-d5e7-9d91adbea45b"
      },
      "source": [
        "df = df[df['Genre'] != 'unknown']\n",
        "df['Genre'].value_counts()[:10]"
      ],
      "execution_count": null,
      "outputs": [
        {
          "output_type": "execute_result",
          "data": {
            "text/plain": [
              "drama        5964\n",
              "comedy       4379\n",
              "horror       1167\n",
              "action       1098\n",
              "thriller      966\n",
              "romance       923\n",
              "western       865\n",
              "crime         568\n",
              "adventure     526\n",
              "musical       467\n",
              "Name: Genre, dtype: int64"
            ]
          },
          "metadata": {
            "tags": []
          },
          "execution_count": 18
        }
      ]
    },
    {
      "cell_type": "markdown",
      "metadata": {
        "id": "gNs6HsyD50VD",
        "colab_type": "text"
      },
      "source": [
        "Now the plots are \"cleaned\". They are converted to lowercase, stopwords are removed as well as punctuations and finally, they are stemmed using Porter Stemmer in order to obtain the morphological essence (stem) of the words. The NLTK library suite was used and the stopwords come from its *corpus* package."
      ]
    },
    {
      "cell_type": "code",
      "metadata": {
        "colab_type": "code",
        "id": "51WsHHiwNzrb",
        "colab": {}
      },
      "source": [
        "ps = PorterStemmer()\n",
        "\n",
        "def clean_plot(plot):  \n",
        "  tokens = plot.split()\n",
        "  tokens = [word.lower() for word in tokens]\n",
        "  tokens = [word for word in tokens if word not in stopwords.words('english')]\n",
        "  table = str.maketrans('', '', string.punctuation)  \n",
        "  tokens = [(w.translate(table)) for w in tokens] # removing punctuations\n",
        "  tokens = [word for word in tokens if word.isalpha()] # removing non-alphanumeric special characters\n",
        "  tokens = [ps.stem(word) for word in tokens] # stemming\n",
        "  data = \" \".join(tokens) \n",
        "  return data"
      ],
      "execution_count": null,
      "outputs": []
    },
    {
      "cell_type": "code",
      "metadata": {
        "colab_type": "code",
        "id": "-vlcbzUVNzvZ",
        "colab": {}
      },
      "source": [
        "# hyphens are replaced by a single space so that phrases are still separate and no \"strange\" word is formed when simply removing them\n",
        "df['cleaned_plots'] = df['Plot'].str.replace(\"-\", \" \", regex=False)\n",
        "df['cleaned_plots'] = df['Plot'].str.replace(\" - \",\" \", regex=False)\n",
        "df['cleaned_plots'] = df['Plot'].apply(clean_plot)"
      ],
      "execution_count": null,
      "outputs": []
    },
    {
      "cell_type": "code",
      "metadata": {
        "colab_type": "code",
        "id": "r4YwuxGFNzy8",
        "colab": {
          "base_uri": "https://localhost:8080/",
          "height": 206
        },
        "outputId": "079b73ae-a697-46b4-905e-c27b42818e6a"
      },
      "source": [
        "df.head()"
      ],
      "execution_count": null,
      "outputs": [
        {
          "output_type": "execute_result",
          "data": {
            "text/html": [
              "<div>\n",
              "<style scoped>\n",
              "    .dataframe tbody tr th:only-of-type {\n",
              "        vertical-align: middle;\n",
              "    }\n",
              "\n",
              "    .dataframe tbody tr th {\n",
              "        vertical-align: top;\n",
              "    }\n",
              "\n",
              "    .dataframe thead th {\n",
              "        text-align: right;\n",
              "    }\n",
              "</style>\n",
              "<table border=\"1\" class=\"dataframe\">\n",
              "  <thead>\n",
              "    <tr style=\"text-align: right;\">\n",
              "      <th></th>\n",
              "      <th>Genre</th>\n",
              "      <th>Plot</th>\n",
              "      <th>cleaned_plots</th>\n",
              "    </tr>\n",
              "  </thead>\n",
              "  <tbody>\n",
              "    <tr>\n",
              "      <th>6</th>\n",
              "      <td>western</td>\n",
              "      <td>The film opens with two bandits breaking into ...</td>\n",
              "      <td>film open two bandit break railroad telegraph ...</td>\n",
              "    </tr>\n",
              "    <tr>\n",
              "      <th>7</th>\n",
              "      <td>comedy</td>\n",
              "      <td>The film is about a family who move to the sub...</td>\n",
              "      <td>film famili move suburb hope quiet life thing ...</td>\n",
              "    </tr>\n",
              "    <tr>\n",
              "      <th>10</th>\n",
              "      <td>short</td>\n",
              "      <td>The Rarebit Fiend gorges on Welsh rarebit at a...</td>\n",
              "      <td>rarebit fiend gorg welsh rarebit restaur leav ...</td>\n",
              "    </tr>\n",
              "    <tr>\n",
              "      <th>11</th>\n",
              "      <td>short action/crime western</td>\n",
              "      <td>The film features a train traveling through th...</td>\n",
              "      <td>film featur train travel rocki hold creat two ...</td>\n",
              "    </tr>\n",
              "    <tr>\n",
              "      <th>12</th>\n",
              "      <td>short film</td>\n",
              "      <td>Irish villager Kathleen is a tenant of Captain...</td>\n",
              "      <td>irish villag kathleen tenant captain clearfiel...</td>\n",
              "    </tr>\n",
              "  </tbody>\n",
              "</table>\n",
              "</div>"
            ],
            "text/plain": [
              "                         Genre  ...                                      cleaned_plots\n",
              "6                      western  ...  film open two bandit break railroad telegraph ...\n",
              "7                       comedy  ...  film famili move suburb hope quiet life thing ...\n",
              "10                       short  ...  rarebit fiend gorg welsh rarebit restaur leav ...\n",
              "11  short action/crime western  ...  film featur train travel rocki hold creat two ...\n",
              "12                  short film  ...  irish villag kathleen tenant captain clearfiel...\n",
              "\n",
              "[5 rows x 3 columns]"
            ]
          },
          "metadata": {
            "tags": []
          },
          "execution_count": 23
        }
      ]
    },
    {
      "cell_type": "code",
      "metadata": {
        "colab_type": "code",
        "id": "5UwZcabWNz21",
        "colab": {
          "base_uri": "https://localhost:8080/",
          "height": 206
        },
        "outputId": "5d9962fa-9a08-41be-8aee-8a7a4802b13e"
      },
      "source": [
        "df.tail()"
      ],
      "execution_count": null,
      "outputs": [
        {
          "output_type": "execute_result",
          "data": {
            "text/html": [
              "<div>\n",
              "<style scoped>\n",
              "    .dataframe tbody tr th:only-of-type {\n",
              "        vertical-align: middle;\n",
              "    }\n",
              "\n",
              "    .dataframe tbody tr th {\n",
              "        vertical-align: top;\n",
              "    }\n",
              "\n",
              "    .dataframe thead th {\n",
              "        text-align: right;\n",
              "    }\n",
              "</style>\n",
              "<table border=\"1\" class=\"dataframe\">\n",
              "  <thead>\n",
              "    <tr style=\"text-align: right;\">\n",
              "      <th></th>\n",
              "      <th>Genre</th>\n",
              "      <th>Plot</th>\n",
              "      <th>cleaned_plots</th>\n",
              "    </tr>\n",
              "  </thead>\n",
              "  <tbody>\n",
              "    <tr>\n",
              "      <th>34877</th>\n",
              "      <td>drama film</td>\n",
              "      <td>Zeynep lost her job at weaving factory, and he...</td>\n",
              "      <td>zeynep lost job weav factori famili mother han...</td>\n",
              "    </tr>\n",
              "    <tr>\n",
              "      <th>34882</th>\n",
              "      <td>comedy</td>\n",
              "      <td>Two musicians, Salih and Gürkan, described the...</td>\n",
              "      <td>two musician salih gürkan describ adventur cousin</td>\n",
              "    </tr>\n",
              "    <tr>\n",
              "      <th>34883</th>\n",
              "      <td>comedy</td>\n",
              "      <td>Zafer, a sailor living with his mother Döndü i...</td>\n",
              "      <td>zafer sailor live mother döndü coastal villag ...</td>\n",
              "    </tr>\n",
              "    <tr>\n",
              "      <th>34884</th>\n",
              "      <td>romantic comedy</td>\n",
              "      <td>The film centres around a young woman named Am...</td>\n",
              "      <td>film centr around young woman name ami tyler b...</td>\n",
              "    </tr>\n",
              "    <tr>\n",
              "      <th>34885</th>\n",
              "      <td>romantic</td>\n",
              "      <td>The writer Orhan Şahin returns to İstanbul aft...</td>\n",
              "      <td>writer orhan şahin return mani year help wellk...</td>\n",
              "    </tr>\n",
              "  </tbody>\n",
              "</table>\n",
              "</div>"
            ],
            "text/plain": [
              "                 Genre  ...                                      cleaned_plots\n",
              "34877       drama film  ...  zeynep lost job weav factori famili mother han...\n",
              "34882           comedy  ...  two musician salih gürkan describ adventur cousin\n",
              "34883           comedy  ...  zafer sailor live mother döndü coastal villag ...\n",
              "34884  romantic comedy  ...  film centr around young woman name ami tyler b...\n",
              "34885         romantic  ...  writer orhan şahin return mani year help wellk...\n",
              "\n",
              "[5 rows x 3 columns]"
            ]
          },
          "metadata": {
            "tags": []
          },
          "execution_count": 24
        }
      ]
    },
    {
      "cell_type": "code",
      "metadata": {
        "id": "fGGnbziuEGAa",
        "colab_type": "code",
        "colab": {
          "base_uri": "https://localhost:8080/",
          "height": 219
        },
        "outputId": "f6a1fa5c-25ad-4cb8-95ce-3a6dcff03633"
      },
      "source": [
        "df['Genre'].value_counts()[:10]"
      ],
      "execution_count": null,
      "outputs": [
        {
          "output_type": "execute_result",
          "data": {
            "text/plain": [
              "drama        5964\n",
              "comedy       4379\n",
              "horror       1167\n",
              "action       1098\n",
              "thriller      966\n",
              "romance       923\n",
              "western       865\n",
              "crime         568\n",
              "adventure     526\n",
              "musical       467\n",
              "Name: Genre, dtype: int64"
            ]
          },
          "metadata": {
            "tags": []
          },
          "execution_count": 26
        }
      ]
    },
    {
      "cell_type": "code",
      "metadata": {
        "id": "UDPLgBW8KDyg",
        "colab_type": "code",
        "colab": {}
      },
      "source": [
        "df.to_csv('/content/drive/My Drive/Data Science Projects/text_classification_wiki/df_preprocessed_full.csv', index=False)"
      ],
      "execution_count": null,
      "outputs": []
    },
    {
      "cell_type": "markdown",
      "metadata": {
        "colab_type": "text",
        "id": "Cwkucf4Yu8_t"
      },
      "source": [
        "Only the top 10 genres (excluding 'unknown') will be used. Furthermore, we notice that there is a considerable class imbalance among the genres in this dataset. Therefore, 1000 samples of 'comedy' and 'drama' movies will be taken in order to reduce this problem. Note that this is not a definitive solution to the problem, but smoothes it."
      ]
    },
    {
      "cell_type": "code",
      "metadata": {
        "colab_type": "code",
        "id": "ZCOdU8i8Efxi",
        "colab": {
          "base_uri": "https://localhost:8080/",
          "height": 219
        },
        "outputId": "113cf0d6-4e47-40c4-ce74-acc61a36384b"
      },
      "source": [
        "df_dropped = df[(df['Genre'] != 'drama') & (df['Genre'] != 'comedy')]\n",
        "df_drama = df[df['Genre'] == 'drama'].sample(1000)\n",
        "df_comedy = df[df['Genre'] == 'comedy'].sample(1000)\n",
        "\n",
        "chosen_genres = df['Genre'].value_counts().index[2:10]\n",
        "df_others = df[df['Genre'].isin(chosen_genres)]\n",
        "\n",
        "df_selected_genres = pd.concat([df_drama, df_comedy, df_others])\n",
        "df_selected_genres['Genre'].value_counts()"
      ],
      "execution_count": null,
      "outputs": [
        {
          "output_type": "execute_result",
          "data": {
            "text/plain": [
              "horror       1167\n",
              "action       1098\n",
              "drama        1000\n",
              "comedy       1000\n",
              "thriller      966\n",
              "romance       923\n",
              "western       865\n",
              "crime         568\n",
              "adventure     526\n",
              "musical       467\n",
              "Name: Genre, dtype: int64"
            ]
          },
          "metadata": {
            "tags": []
          },
          "execution_count": 28
        }
      ]
    },
    {
      "cell_type": "code",
      "metadata": {
        "colab_type": "code",
        "id": "_fZb6m5KNz-P",
        "colab": {
          "base_uri": "https://localhost:8080/",
          "height": 146
        },
        "outputId": "41cb9f28-db91-4929-9bd1-9250a562aae7"
      },
      "source": [
        "df_preprocessed = df_selected_genres[['cleaned_plots', 'Genre']]\n",
        "df_preprocessed.columns = ['plot', 'genre']\n",
        "print(df_preprocessed.head())\n",
        "print(df_preprocessed.shape)"
      ],
      "execution_count": null,
      "outputs": [
        {
          "output_type": "stream",
          "text": [
            "                                                    plot  genre\n",
            "11476  exploratori adventur sir richard burton patric...  drama\n",
            "17377  american sailor ashor liverpool wrongli convic...  drama\n",
            "1274   marvin blake sharecropp son want better contin...  drama\n",
            "9309   swiss bank learn confidenti sever anonym numbe...  drama\n",
            "4638   given studi architectur becom fisherman state ...  drama\n",
            "(8580, 2)\n"
          ],
          "name": "stdout"
        }
      ]
    },
    {
      "cell_type": "code",
      "metadata": {
        "colab_type": "code",
        "id": "nReZtjiqN0B_",
        "colab": {}
      },
      "source": [
        "df_preprocessed.to_csv('/content/drive/My Drive/Data Science Projects/text_classification_wiki/df_preprocessed_multi.csv', index=False)"
      ],
      "execution_count": null,
      "outputs": []
    },
    {
      "cell_type": "markdown",
      "metadata": {
        "id": "vXJ3ho35ciwE",
        "colab_type": "text"
      },
      "source": [
        "For the binary classification task, only the comedy and drama plots will be used."
      ]
    },
    {
      "cell_type": "code",
      "metadata": {
        "id": "CFzKS_k4ciFG",
        "colab_type": "code",
        "colab": {
          "base_uri": "https://localhost:8080/",
          "height": 146
        },
        "outputId": "64ac0074-7da1-4ac6-8f61-957a67e30f6c"
      },
      "source": [
        "df_comedy_drama = df[(df['Genre'] == 'comedy') | (df['Genre'] == 'drama')]\n",
        "\n",
        "df_preprocessed_binary = df_comedy_drama[['cleaned_plots', 'Genre']]\n",
        "df_preprocessed_binary.columns = ['plot', 'genre']\n",
        "print(df_preprocessed_binary.head())\n",
        "print(df_preprocessed_binary.shape)"
      ],
      "execution_count": null,
      "outputs": [
        {
          "output_type": "stream",
          "text": [
            "                                                 plot   genre\n",
            "7   film famili move suburb hope quiet life thing ...  comedy\n",
            "14  head basebal game nearbi ballpark sport fan mr...  comedy\n",
            "15  plot black woman go dentist toothach given lau...  comedy\n",
            "16  beauti summer day father mother take daughter ...   drama\n",
            "17  thug accost girl leav workplac man rescu her t...   drama\n",
            "(10343, 2)\n"
          ],
          "name": "stdout"
        }
      ]
    },
    {
      "cell_type": "code",
      "metadata": {
        "id": "WfxymG2oiQBT",
        "colab_type": "code",
        "colab": {}
      },
      "source": [
        "df_preprocessed_binary.to_csv('/content/drive/My Drive/Data Science Projects/text_classification_wiki/df_preprocessed_binary.csv', index=False)"
      ],
      "execution_count": null,
      "outputs": []
    },
    {
      "cell_type": "markdown",
      "metadata": {
        "id": "wrWR73RLvP-q",
        "colab_type": "text"
      },
      "source": [
        "# Multiclass classification"
      ]
    },
    {
      "cell_type": "markdown",
      "metadata": {
        "id": "6VKqtqzTlxUT",
        "colab_type": "text"
      },
      "source": [
        "All three models use the Adam optimizer with the default learning rate (0.001), the categorical cross-entropy loss function and only the model with the best validation accuracy throughout the training process is kept and used for evaluation."
      ]
    },
    {
      "cell_type": "code",
      "metadata": {
        "colab_type": "code",
        "id": "lsko_cPQAOOx",
        "colab": {
          "base_uri": "https://localhost:8080/",
          "height": 146
        },
        "outputId": "36e9a317-e4d3-4054-e0d0-596c70b41a04"
      },
      "source": [
        "df_preprocessed = pd.read_csv('/content/drive/My Drive/Data Science Projects/text_classification_wiki/df_preprocessed_multi.csv')\n",
        "print(df_preprocessed.head())\n",
        "print(df_preprocessed.shape)"
      ],
      "execution_count": 3,
      "outputs": [
        {
          "output_type": "stream",
          "text": [
            "                                                plot  genre\n",
            "0  exploratori adventur sir richard burton patric...  drama\n",
            "1  american sailor ashor liverpool wrongli convic...  drama\n",
            "2  marvin blake sharecropp son want better contin...  drama\n",
            "3  swiss bank learn confidenti sever anonym numbe...  drama\n",
            "4  given studi architectur becom fisherman state ...  drama\n",
            "(8580, 2)\n"
          ],
          "name": "stdout"
        }
      ]
    },
    {
      "cell_type": "code",
      "metadata": {
        "colab_type": "code",
        "id": "peqUkG_4N0GO",
        "colab": {
          "base_uri": "https://localhost:8080/",
          "height": 54
        },
        "outputId": "2022caac-3334-4f1f-c580-f5c13d86c1f2"
      },
      "source": [
        "np.unique(df_preprocessed['genre'])"
      ],
      "execution_count": 4,
      "outputs": [
        {
          "output_type": "execute_result",
          "data": {
            "text/plain": [
              "array(['action', 'adventure', 'comedy', 'crime', 'drama', 'horror',\n",
              "       'musical', 'romance', 'thriller', 'western'], dtype=object)"
            ]
          },
          "metadata": {
            "tags": []
          },
          "execution_count": 4
        }
      ]
    },
    {
      "cell_type": "markdown",
      "metadata": {
        "id": "EMoRx9EdOWCY",
        "colab_type": "text"
      },
      "source": [
        "Taking a look at the plots."
      ]
    },
    {
      "cell_type": "code",
      "metadata": {
        "colab_type": "code",
        "id": "85E01kVRN0KN",
        "colab": {
          "base_uri": "https://localhost:8080/",
          "height": 184
        },
        "outputId": "30dfd91c-f753-47d4-a296-9eeb27cf5156"
      },
      "source": [
        "plots = df_preprocessed['plot'].values\n",
        "plots"
      ],
      "execution_count": 5,
      "outputs": [
        {
          "output_type": "execute_result",
          "data": {
            "text/plain": [
              "array(['exploratori adventur sir richard burton patrick bergin john han speke iain glen tri discov true sourc nile river',\n",
              "       'american sailor ashor liverpool wrongli convict sent penal coloni sydney australia enter battl will governor governor offer pardon help pioneer new land grow coloni marri irish woman bess establish farm despit harass bushrang oppon governor persuad visit crown commission lord croydon revok adam pardon adam tri escap arrest bess plead case adam get full pardon',\n",
              "       'marvin blake sharecropp son want better continu school instead work field heat deep south initi greedi planter lane norwood oppos idea say need work field sudden death overwork father grudgingli help blake achiev goal give young man job bookkeep vampish daughter madg interced behalf blake uncov irregular norwood account soon find embroil battl manag worker torn seduct madg longtim sweetheart betti wright',\n",
              "       ...,\n",
              "       'derya selma ergeç work bank call center support elderli mother one day life suddenli turn upsid begin hear strang voic whisper her sourc voic mysteri tell thing fact noon els would know word get out mani commun start believ receiv messag divin soon voic start becom louder louder tone becom threaten life start spiral nightmar',\n",
              "       'film follow two antiterror offic istanbul sent new york find bring back turkish religi leader codenam dajjal arrest unit state deliv turkish author fbi film focus islamophobia turkey unit state septemb attack seek answer question whether innoc guilt even matter one lust',\n",
              "       'american professor travel istanbul find mysteri centuryold chest built sultan abdülhamid ii believ relev present polit power game oil search lead discov longforgotten underground cloister topkapı palac topkapı museum confront patriot museum curat turkish intellig conspiraci go back gulf war iraniraq war world war i far final year ottoman empir reveal cours investig'],\n",
              "      dtype=object)"
            ]
          },
          "metadata": {
            "tags": []
          },
          "execution_count": 5
        }
      ]
    },
    {
      "cell_type": "markdown",
      "metadata": {
        "id": "7mExhlhtOaIq",
        "colab_type": "text"
      },
      "source": [
        "Since the targets are categorical, we need to convert them to integers. For that, the LabelEncoder class was used."
      ]
    },
    {
      "cell_type": "code",
      "metadata": {
        "id": "NXblc2Bof2rB",
        "colab_type": "code",
        "colab": {
          "base_uri": "https://localhost:8080/",
          "height": 54
        },
        "outputId": "fda886bd-7616-4253-e187-2d6e0c12f784"
      },
      "source": [
        "y = df_preprocessed['genre'].values\n",
        "label_encoder = LabelEncoder()\n",
        "label_encoder.fit(list(y))\n",
        "\n",
        "y = label_encoder.transform(list(y))\n",
        "print('labels:', np.unique(y))\n",
        "print('corresponding classes:', list(label_encoder.inverse_transform(np.unique(y))))"
      ],
      "execution_count": 6,
      "outputs": [
        {
          "output_type": "stream",
          "text": [
            "labels: [0 1 2 3 4 5 6 7 8 9]\n",
            "corresponding classes: ['action', 'adventure', 'comedy', 'crime', 'drama', 'horror', 'musical', 'romance', 'thriller', 'western']\n"
          ],
          "name": "stdout"
        }
      ]
    },
    {
      "cell_type": "markdown",
      "metadata": {
        "colab_type": "text",
        "id": "Bm1-jYMkF6Ci"
      },
      "source": [
        "## BOW Model"
      ]
    },
    {
      "cell_type": "markdown",
      "metadata": {
        "id": "G7S0jlZYD1Wj",
        "colab_type": "text"
      },
      "source": [
        "The first approach will be a simple Bag of Words (BOW) model using TF-IDF. Bag of Words is a common feature extraction method for text and represents the occurrence of words within documents. It uses a word vocabulary and a measure which scores the presence of these words in documents. In this work, the vocabulary consists of all words present in the movie plots and the chosen measure was TF-IDF which takes into account the word frequencies in a single document as well as across all documents (all plots).  "
      ]
    },
    {
      "cell_type": "code",
      "metadata": {
        "colab_type": "code",
        "id": "uoVTkvFmH8KC",
        "colab": {
          "base_uri": "https://localhost:8080/",
          "height": 35
        },
        "outputId": "1925a06f-09c6-460c-bc90-36a99008b386"
      },
      "source": [
        "tfidf = TfidfVectorizer()\n",
        "tfidf_matrix = tfidf.fit_transform(df_preprocessed['plot'])\n",
        "tfidf_matrix.sort_indices() \n",
        "\n",
        "print('tf-idf matrix shape:', tfidf_matrix.shape) # shape: (documents, words)"
      ],
      "execution_count": 7,
      "outputs": [
        {
          "output_type": "stream",
          "text": [
            "tf-idf matrix shape: (8580, 52699)\n"
          ],
          "name": "stdout"
        }
      ]
    },
    {
      "cell_type": "markdown",
      "metadata": {
        "id": "X5V73GHjlmPB",
        "colab_type": "text"
      },
      "source": [
        "The data is split into three sets: train (70%), validation (20%) and test (10%)."
      ]
    },
    {
      "cell_type": "code",
      "metadata": {
        "colab_type": "code",
        "id": "2JcmjKr4IxbY",
        "colab": {
          "base_uri": "https://localhost:8080/",
          "height": 35
        },
        "outputId": "3fdcbf21-b6af-44c5-e3f5-56a1aba3a9a5"
      },
      "source": [
        "X_train_bow, X_val_bow, y_train_bow, y_val_bow = train_test_split(tfidf_matrix, y, test_size=0.2, random_state=0)\n",
        "X_train_bow, X_test_bow, y_train_bow, y_test_bow = train_test_split(X_train_bow, y_train_bow, test_size=0.12, random_state=0, shuffle=False)\n",
        "\n",
        "print(X_train_bow.shape, X_val_bow.shape, X_test_bow.shape)"
      ],
      "execution_count": 8,
      "outputs": [
        {
          "output_type": "stream",
          "text": [
            "(6040, 52699) (1716, 52699) (824, 52699)\n"
          ],
          "name": "stdout"
        }
      ]
    },
    {
      "cell_type": "markdown",
      "metadata": {
        "id": "VHx0o_5Ln8It",
        "colab_type": "text"
      },
      "source": [
        "Now the model is created and trained using the train and validation sets. This model is simply the input layer and the output layer with 10 neurons and a softmax activation."
      ]
    },
    {
      "cell_type": "code",
      "metadata": {
        "colab_type": "code",
        "id": "QGazpIAKNuxC",
        "colab": {
          "base_uri": "https://localhost:8080/",
          "height": 1000
        },
        "outputId": "cd3814c1-af07-4b77-aabb-bca39293e817"
      },
      "source": [
        "T = tfidf_matrix.shape[1] # T is the size of each feature vector which represents a plot\n",
        "\n",
        "num_classes = len(np.unique(y))\n",
        "\n",
        "i = Input(shape=(T,)) \n",
        "x = Dense(num_classes, activation='softmax')(i)\n",
        "\n",
        "model = Model(i, x)\n",
        "\n",
        "model.compile(optimizer='adam', loss='sparse_categorical_crossentropy', metrics=['accuracy'])\n",
        "\n",
        "checkpoint_filepath = '/content/drive/My Drive/Data Science Projects/text_classification_wiki/bow_best_model'\n",
        "checkpoint_callback = ModelCheckpoint(filepath=checkpoint_filepath, monitor='val_accuracy', mode='max', save_best_only=True)\n",
        "\n",
        "r = model.fit(X_train_bow, y_train_bow, validation_data=(X_val_bow, y_val_bow), batch_size=32, epochs=40, callbacks=[checkpoint_callback])"
      ],
      "execution_count": null,
      "outputs": [
        {
          "output_type": "stream",
          "text": [
            "Epoch 1/40\n",
            "178/189 [===========================>..] - ETA: 0s - loss: 2.2472 - accuracy: 0.2667WARNING:tensorflow:From /usr/local/lib/python3.6/dist-packages/tensorflow/python/ops/resource_variable_ops.py:1817: calling BaseResourceVariable.__init__ (from tensorflow.python.ops.resource_variable_ops) with constraint is deprecated and will be removed in a future version.\n",
            "Instructions for updating:\n",
            "If using Keras pass *_constraint arguments to layers.\n"
          ],
          "name": "stdout"
        },
        {
          "output_type": "stream",
          "text": [
            "WARNING:tensorflow:From /usr/local/lib/python3.6/dist-packages/tensorflow/python/ops/resource_variable_ops.py:1817: calling BaseResourceVariable.__init__ (from tensorflow.python.ops.resource_variable_ops) with constraint is deprecated and will be removed in a future version.\n",
            "Instructions for updating:\n",
            "If using Keras pass *_constraint arguments to layers.\n"
          ],
          "name": "stderr"
        },
        {
          "output_type": "stream",
          "text": [
            "INFO:tensorflow:Assets written to: /content/drive/My Drive/Data Science Projects/text_classification_wiki/bow_best_model/assets\n"
          ],
          "name": "stdout"
        },
        {
          "output_type": "stream",
          "text": [
            "INFO:tensorflow:Assets written to: /content/drive/My Drive/Data Science Projects/text_classification_wiki/bow_best_model/assets\n"
          ],
          "name": "stderr"
        },
        {
          "output_type": "stream",
          "text": [
            "189/189 [==============================] - 2s 8ms/step - loss: 2.2440 - accuracy: 0.2695 - val_loss: 2.1871 - val_accuracy: 0.3543\n",
            "Epoch 2/40\n",
            "187/189 [============================>.] - ETA: 0s - loss: 2.0962 - accuracy: 0.5501INFO:tensorflow:Assets written to: /content/drive/My Drive/Data Science Projects/text_classification_wiki/bow_best_model/assets\n"
          ],
          "name": "stdout"
        },
        {
          "output_type": "stream",
          "text": [
            "INFO:tensorflow:Assets written to: /content/drive/My Drive/Data Science Projects/text_classification_wiki/bow_best_model/assets\n"
          ],
          "name": "stderr"
        },
        {
          "output_type": "stream",
          "text": [
            "189/189 [==============================] - 1s 7ms/step - loss: 2.0960 - accuracy: 0.5497 - val_loss: 2.1027 - val_accuracy: 0.4138\n",
            "Epoch 3/40\n",
            "181/189 [===========================>..] - ETA: 0s - loss: 1.9696 - accuracy: 0.6352INFO:tensorflow:Assets written to: /content/drive/My Drive/Data Science Projects/text_classification_wiki/bow_best_model/assets\n"
          ],
          "name": "stdout"
        },
        {
          "output_type": "stream",
          "text": [
            "INFO:tensorflow:Assets written to: /content/drive/My Drive/Data Science Projects/text_classification_wiki/bow_best_model/assets\n"
          ],
          "name": "stderr"
        },
        {
          "output_type": "stream",
          "text": [
            "189/189 [==============================] - 1s 7ms/step - loss: 1.9669 - accuracy: 0.6359 - val_loss: 2.0305 - val_accuracy: 0.4639\n",
            "Epoch 4/40\n",
            "178/189 [===========================>..] - ETA: 0s - loss: 1.8495 - accuracy: 0.6847INFO:tensorflow:Assets written to: /content/drive/My Drive/Data Science Projects/text_classification_wiki/bow_best_model/assets\n"
          ],
          "name": "stdout"
        },
        {
          "output_type": "stream",
          "text": [
            "INFO:tensorflow:Assets written to: /content/drive/My Drive/Data Science Projects/text_classification_wiki/bow_best_model/assets\n"
          ],
          "name": "stderr"
        },
        {
          "output_type": "stream",
          "text": [
            "189/189 [==============================] - 1s 7ms/step - loss: 1.8474 - accuracy: 0.6846 - val_loss: 1.9654 - val_accuracy: 0.4814\n",
            "Epoch 5/40\n",
            "189/189 [==============================] - ETA: 0s - loss: 1.7356 - accuracy: 0.7346INFO:tensorflow:Assets written to: /content/drive/My Drive/Data Science Projects/text_classification_wiki/bow_best_model/assets\n"
          ],
          "name": "stdout"
        },
        {
          "output_type": "stream",
          "text": [
            "INFO:tensorflow:Assets written to: /content/drive/My Drive/Data Science Projects/text_classification_wiki/bow_best_model/assets\n"
          ],
          "name": "stderr"
        },
        {
          "output_type": "stream",
          "text": [
            "189/189 [==============================] - 1s 7ms/step - loss: 1.7356 - accuracy: 0.7346 - val_loss: 1.9054 - val_accuracy: 0.4959\n",
            "Epoch 6/40\n",
            "182/189 [===========================>..] - ETA: 0s - loss: 1.6317 - accuracy: 0.7783INFO:tensorflow:Assets written to: /content/drive/My Drive/Data Science Projects/text_classification_wiki/bow_best_model/assets\n"
          ],
          "name": "stdout"
        },
        {
          "output_type": "stream",
          "text": [
            "INFO:tensorflow:Assets written to: /content/drive/My Drive/Data Science Projects/text_classification_wiki/bow_best_model/assets\n"
          ],
          "name": "stderr"
        },
        {
          "output_type": "stream",
          "text": [
            "189/189 [==============================] - 1s 8ms/step - loss: 1.6311 - accuracy: 0.7788 - val_loss: 1.8507 - val_accuracy: 0.5134\n",
            "Epoch 7/40\n",
            "188/189 [============================>.] - ETA: 0s - loss: 1.5334 - accuracy: 0.8316INFO:tensorflow:Assets written to: /content/drive/My Drive/Data Science Projects/text_classification_wiki/bow_best_model/assets\n"
          ],
          "name": "stdout"
        },
        {
          "output_type": "stream",
          "text": [
            "INFO:tensorflow:Assets written to: /content/drive/My Drive/Data Science Projects/text_classification_wiki/bow_best_model/assets\n"
          ],
          "name": "stderr"
        },
        {
          "output_type": "stream",
          "text": [
            "189/189 [==============================] - 1s 7ms/step - loss: 1.5334 - accuracy: 0.8316 - val_loss: 1.8006 - val_accuracy: 0.5216\n",
            "Epoch 8/40\n",
            "189/189 [==============================] - ETA: 0s - loss: 1.4422 - accuracy: 0.8675INFO:tensorflow:Assets written to: /content/drive/My Drive/Data Science Projects/text_classification_wiki/bow_best_model/assets\n"
          ],
          "name": "stdout"
        },
        {
          "output_type": "stream",
          "text": [
            "INFO:tensorflow:Assets written to: /content/drive/My Drive/Data Science Projects/text_classification_wiki/bow_best_model/assets\n"
          ],
          "name": "stderr"
        },
        {
          "output_type": "stream",
          "text": [
            "189/189 [==============================] - 1s 6ms/step - loss: 1.4422 - accuracy: 0.8675 - val_loss: 1.7543 - val_accuracy: 0.5280\n",
            "Epoch 9/40\n",
            "189/189 [==============================] - ETA: 0s - loss: 1.3571 - accuracy: 0.8889INFO:tensorflow:Assets written to: /content/drive/My Drive/Data Science Projects/text_classification_wiki/bow_best_model/assets\n"
          ],
          "name": "stdout"
        },
        {
          "output_type": "stream",
          "text": [
            "INFO:tensorflow:Assets written to: /content/drive/My Drive/Data Science Projects/text_classification_wiki/bow_best_model/assets\n"
          ],
          "name": "stderr"
        },
        {
          "output_type": "stream",
          "text": [
            "189/189 [==============================] - 1s 6ms/step - loss: 1.3571 - accuracy: 0.8889 - val_loss: 1.7115 - val_accuracy: 0.5420\n",
            "Epoch 10/40\n",
            "186/189 [============================>.] - ETA: 0s - loss: 1.2774 - accuracy: 0.9084INFO:tensorflow:Assets written to: /content/drive/My Drive/Data Science Projects/text_classification_wiki/bow_best_model/assets\n"
          ],
          "name": "stdout"
        },
        {
          "output_type": "stream",
          "text": [
            "INFO:tensorflow:Assets written to: /content/drive/My Drive/Data Science Projects/text_classification_wiki/bow_best_model/assets\n"
          ],
          "name": "stderr"
        },
        {
          "output_type": "stream",
          "text": [
            "189/189 [==============================] - 1s 6ms/step - loss: 1.2779 - accuracy: 0.9086 - val_loss: 1.6727 - val_accuracy: 0.5449\n",
            "Epoch 11/40\n",
            "181/189 [===========================>..] - ETA: 0s - loss: 1.2045 - accuracy: 0.9213INFO:tensorflow:Assets written to: /content/drive/My Drive/Data Science Projects/text_classification_wiki/bow_best_model/assets\n"
          ],
          "name": "stdout"
        },
        {
          "output_type": "stream",
          "text": [
            "INFO:tensorflow:Assets written to: /content/drive/My Drive/Data Science Projects/text_classification_wiki/bow_best_model/assets\n"
          ],
          "name": "stderr"
        },
        {
          "output_type": "stream",
          "text": [
            "189/189 [==============================] - 1s 7ms/step - loss: 1.2040 - accuracy: 0.9217 - val_loss: 1.6369 - val_accuracy: 0.5524\n",
            "Epoch 12/40\n",
            "180/189 [===========================>..] - ETA: 0s - loss: 1.1363 - accuracy: 0.9356INFO:tensorflow:Assets written to: /content/drive/My Drive/Data Science Projects/text_classification_wiki/bow_best_model/assets\n"
          ],
          "name": "stdout"
        },
        {
          "output_type": "stream",
          "text": [
            "INFO:tensorflow:Assets written to: /content/drive/My Drive/Data Science Projects/text_classification_wiki/bow_best_model/assets\n"
          ],
          "name": "stderr"
        },
        {
          "output_type": "stream",
          "text": [
            "189/189 [==============================] - 1s 6ms/step - loss: 1.1352 - accuracy: 0.9344 - val_loss: 1.6039 - val_accuracy: 0.5635\n",
            "Epoch 13/40\n",
            "172/189 [==========================>...] - ETA: 0s - loss: 1.0734 - accuracy: 0.9428INFO:tensorflow:Assets written to: /content/drive/My Drive/Data Science Projects/text_classification_wiki/bow_best_model/assets\n"
          ],
          "name": "stdout"
        },
        {
          "output_type": "stream",
          "text": [
            "INFO:tensorflow:Assets written to: /content/drive/My Drive/Data Science Projects/text_classification_wiki/bow_best_model/assets\n"
          ],
          "name": "stderr"
        },
        {
          "output_type": "stream",
          "text": [
            "189/189 [==============================] - 1s 7ms/step - loss: 1.0710 - accuracy: 0.9424 - val_loss: 1.5734 - val_accuracy: 0.5717\n",
            "Epoch 14/40\n",
            "185/189 [============================>.] - ETA: 0s - loss: 1.0116 - accuracy: 0.9519INFO:tensorflow:Assets written to: /content/drive/My Drive/Data Science Projects/text_classification_wiki/bow_best_model/assets\n"
          ],
          "name": "stdout"
        },
        {
          "output_type": "stream",
          "text": [
            "INFO:tensorflow:Assets written to: /content/drive/My Drive/Data Science Projects/text_classification_wiki/bow_best_model/assets\n"
          ],
          "name": "stderr"
        },
        {
          "output_type": "stream",
          "text": [
            "189/189 [==============================] - 1s 6ms/step - loss: 1.0113 - accuracy: 0.9520 - val_loss: 1.5453 - val_accuracy: 0.5740\n",
            "Epoch 15/40\n",
            "182/189 [===========================>..] - ETA: 0s - loss: 0.9565 - accuracy: 0.9548INFO:tensorflow:Assets written to: /content/drive/My Drive/Data Science Projects/text_classification_wiki/bow_best_model/assets\n"
          ],
          "name": "stdout"
        },
        {
          "output_type": "stream",
          "text": [
            "INFO:tensorflow:Assets written to: /content/drive/My Drive/Data Science Projects/text_classification_wiki/bow_best_model/assets\n"
          ],
          "name": "stderr"
        },
        {
          "output_type": "stream",
          "text": [
            "189/189 [==============================] - 1s 7ms/step - loss: 0.9555 - accuracy: 0.9553 - val_loss: 1.5194 - val_accuracy: 0.5758\n",
            "Epoch 16/40\n",
            "188/189 [============================>.] - ETA: 0s - loss: 0.9036 - accuracy: 0.9609INFO:tensorflow:Assets written to: /content/drive/My Drive/Data Science Projects/text_classification_wiki/bow_best_model/assets\n"
          ],
          "name": "stdout"
        },
        {
          "output_type": "stream",
          "text": [
            "INFO:tensorflow:Assets written to: /content/drive/My Drive/Data Science Projects/text_classification_wiki/bow_best_model/assets\n"
          ],
          "name": "stderr"
        },
        {
          "output_type": "stream",
          "text": [
            "189/189 [==============================] - 1s 6ms/step - loss: 0.9034 - accuracy: 0.9611 - val_loss: 1.4955 - val_accuracy: 0.5804\n",
            "Epoch 17/40\n",
            "181/189 [===========================>..] - ETA: 0s - loss: 0.8538 - accuracy: 0.9639INFO:tensorflow:Assets written to: /content/drive/My Drive/Data Science Projects/text_classification_wiki/bow_best_model/assets\n"
          ],
          "name": "stdout"
        },
        {
          "output_type": "stream",
          "text": [
            "INFO:tensorflow:Assets written to: /content/drive/My Drive/Data Science Projects/text_classification_wiki/bow_best_model/assets\n"
          ],
          "name": "stderr"
        },
        {
          "output_type": "stream",
          "text": [
            "189/189 [==============================] - 1s 6ms/step - loss: 0.8547 - accuracy: 0.9639 - val_loss: 1.4733 - val_accuracy: 0.5845\n",
            "Epoch 18/40\n",
            "174/189 [==========================>...] - ETA: 0s - loss: 0.8094 - accuracy: 0.9680INFO:tensorflow:Assets written to: /content/drive/My Drive/Data Science Projects/text_classification_wiki/bow_best_model/assets\n"
          ],
          "name": "stdout"
        },
        {
          "output_type": "stream",
          "text": [
            "INFO:tensorflow:Assets written to: /content/drive/My Drive/Data Science Projects/text_classification_wiki/bow_best_model/assets\n"
          ],
          "name": "stderr"
        },
        {
          "output_type": "stream",
          "text": [
            "189/189 [==============================] - 1s 6ms/step - loss: 0.8092 - accuracy: 0.9680 - val_loss: 1.4532 - val_accuracy: 0.5897\n",
            "Epoch 19/40\n",
            "181/189 [===========================>..] - ETA: 0s - loss: 0.7656 - accuracy: 0.9706INFO:tensorflow:Assets written to: /content/drive/My Drive/Data Science Projects/text_classification_wiki/bow_best_model/assets\n"
          ],
          "name": "stdout"
        },
        {
          "output_type": "stream",
          "text": [
            "INFO:tensorflow:Assets written to: /content/drive/My Drive/Data Science Projects/text_classification_wiki/bow_best_model/assets\n"
          ],
          "name": "stderr"
        },
        {
          "output_type": "stream",
          "text": [
            "189/189 [==============================] - 1s 7ms/step - loss: 0.7665 - accuracy: 0.9705 - val_loss: 1.4341 - val_accuracy: 0.5927\n",
            "Epoch 20/40\n",
            "181/189 [===========================>..] - ETA: 0s - loss: 0.7282 - accuracy: 0.9731INFO:tensorflow:Assets written to: /content/drive/My Drive/Data Science Projects/text_classification_wiki/bow_best_model/assets\n"
          ],
          "name": "stdout"
        },
        {
          "output_type": "stream",
          "text": [
            "INFO:tensorflow:Assets written to: /content/drive/My Drive/Data Science Projects/text_classification_wiki/bow_best_model/assets\n"
          ],
          "name": "stderr"
        },
        {
          "output_type": "stream",
          "text": [
            "189/189 [==============================] - 1s 6ms/step - loss: 0.7264 - accuracy: 0.9733 - val_loss: 1.4164 - val_accuracy: 0.5950\n",
            "Epoch 21/40\n",
            "187/189 [============================>.] - ETA: 0s - loss: 0.6885 - accuracy: 0.9758INFO:tensorflow:Assets written to: /content/drive/My Drive/Data Science Projects/text_classification_wiki/bow_best_model/assets\n"
          ],
          "name": "stdout"
        },
        {
          "output_type": "stream",
          "text": [
            "INFO:tensorflow:Assets written to: /content/drive/My Drive/Data Science Projects/text_classification_wiki/bow_best_model/assets\n"
          ],
          "name": "stderr"
        },
        {
          "output_type": "stream",
          "text": [
            "189/189 [==============================] - 1s 7ms/step - loss: 0.6889 - accuracy: 0.9758 - val_loss: 1.4001 - val_accuracy: 0.6008\n",
            "Epoch 22/40\n",
            "188/189 [============================>.] - ETA: 0s - loss: 0.6536 - accuracy: 0.9777INFO:tensorflow:Assets written to: /content/drive/My Drive/Data Science Projects/text_classification_wiki/bow_best_model/assets\n"
          ],
          "name": "stdout"
        },
        {
          "output_type": "stream",
          "text": [
            "INFO:tensorflow:Assets written to: /content/drive/My Drive/Data Science Projects/text_classification_wiki/bow_best_model/assets\n"
          ],
          "name": "stderr"
        },
        {
          "output_type": "stream",
          "text": [
            "189/189 [==============================] - 1s 6ms/step - loss: 0.6536 - accuracy: 0.9778 - val_loss: 1.3851 - val_accuracy: 0.6031\n",
            "Epoch 23/40\n",
            "183/189 [============================>.] - ETA: 0s - loss: 0.6202 - accuracy: 0.9797INFO:tensorflow:Assets written to: /content/drive/My Drive/Data Science Projects/text_classification_wiki/bow_best_model/assets\n"
          ],
          "name": "stdout"
        },
        {
          "output_type": "stream",
          "text": [
            "INFO:tensorflow:Assets written to: /content/drive/My Drive/Data Science Projects/text_classification_wiki/bow_best_model/assets\n"
          ],
          "name": "stderr"
        },
        {
          "output_type": "stream",
          "text": [
            "189/189 [==============================] - 1s 6ms/step - loss: 0.6205 - accuracy: 0.9798 - val_loss: 1.3709 - val_accuracy: 0.6037\n",
            "Epoch 24/40\n",
            "181/189 [===========================>..] - ETA: 0s - loss: 0.5883 - accuracy: 0.9822INFO:tensorflow:Assets written to: /content/drive/My Drive/Data Science Projects/text_classification_wiki/bow_best_model/assets\n"
          ],
          "name": "stdout"
        },
        {
          "output_type": "stream",
          "text": [
            "INFO:tensorflow:Assets written to: /content/drive/My Drive/Data Science Projects/text_classification_wiki/bow_best_model/assets\n"
          ],
          "name": "stderr"
        },
        {
          "output_type": "stream",
          "text": [
            "189/189 [==============================] - 1s 6ms/step - loss: 0.5893 - accuracy: 0.9811 - val_loss: 1.3577 - val_accuracy: 0.6061\n",
            "Epoch 25/40\n",
            "189/189 [==============================] - 1s 4ms/step - loss: 0.5599 - accuracy: 0.9831 - val_loss: 1.3455 - val_accuracy: 0.6043\n",
            "Epoch 26/40\n",
            "189/189 [==============================] - 1s 4ms/step - loss: 0.5322 - accuracy: 0.9848 - val_loss: 1.3340 - val_accuracy: 0.6037\n",
            "Epoch 27/40\n",
            "189/189 [==============================] - 1s 4ms/step - loss: 0.5060 - accuracy: 0.9854 - val_loss: 1.3233 - val_accuracy: 0.6061\n",
            "Epoch 28/40\n",
            "179/189 [===========================>..] - ETA: 0s - loss: 0.4810 - accuracy: 0.9880INFO:tensorflow:Assets written to: /content/drive/My Drive/Data Science Projects/text_classification_wiki/bow_best_model/assets\n"
          ],
          "name": "stdout"
        },
        {
          "output_type": "stream",
          "text": [
            "INFO:tensorflow:Assets written to: /content/drive/My Drive/Data Science Projects/text_classification_wiki/bow_best_model/assets\n"
          ],
          "name": "stderr"
        },
        {
          "output_type": "stream",
          "text": [
            "189/189 [==============================] - 1s 6ms/step - loss: 0.4814 - accuracy: 0.9879 - val_loss: 1.3133 - val_accuracy: 0.6078\n",
            "Epoch 29/40\n",
            "189/189 [==============================] - 1s 4ms/step - loss: 0.4581 - accuracy: 0.9886 - val_loss: 1.3040 - val_accuracy: 0.6061\n",
            "Epoch 30/40\n",
            "189/189 [==============================] - 1s 4ms/step - loss: 0.4360 - accuracy: 0.9894 - val_loss: 1.2953 - val_accuracy: 0.6066\n",
            "Epoch 31/40\n",
            "189/189 [==============================] - 1s 4ms/step - loss: 0.4152 - accuracy: 0.9907 - val_loss: 1.2871 - val_accuracy: 0.6049\n",
            "Epoch 32/40\n",
            "189/189 [==============================] - 1s 4ms/step - loss: 0.3954 - accuracy: 0.9914 - val_loss: 1.2797 - val_accuracy: 0.6043\n",
            "Epoch 33/40\n",
            "189/189 [==============================] - 1s 4ms/step - loss: 0.3767 - accuracy: 0.9921 - val_loss: 1.2725 - val_accuracy: 0.6026\n",
            "Epoch 34/40\n",
            "189/189 [==============================] - 1s 4ms/step - loss: 0.3589 - accuracy: 0.9925 - val_loss: 1.2659 - val_accuracy: 0.6002\n",
            "Epoch 35/40\n",
            "189/189 [==============================] - 1s 4ms/step - loss: 0.3421 - accuracy: 0.9927 - val_loss: 1.2596 - val_accuracy: 0.5991\n",
            "Epoch 36/40\n",
            "189/189 [==============================] - 1s 4ms/step - loss: 0.3261 - accuracy: 0.9932 - val_loss: 1.2540 - val_accuracy: 0.5979\n",
            "Epoch 37/40\n",
            "189/189 [==============================] - 1s 4ms/step - loss: 0.3110 - accuracy: 0.9940 - val_loss: 1.2485 - val_accuracy: 0.6008\n",
            "Epoch 38/40\n",
            "189/189 [==============================] - 1s 4ms/step - loss: 0.2966 - accuracy: 0.9944 - val_loss: 1.2435 - val_accuracy: 0.6002\n",
            "Epoch 39/40\n",
            "189/189 [==============================] - 1s 4ms/step - loss: 0.2829 - accuracy: 0.9947 - val_loss: 1.2388 - val_accuracy: 0.6020\n",
            "Epoch 40/40\n",
            "189/189 [==============================] - 1s 4ms/step - loss: 0.2699 - accuracy: 0.9954 - val_loss: 1.2343 - val_accuracy: 0.6014\n"
          ],
          "name": "stdout"
        }
      ]
    },
    {
      "cell_type": "code",
      "metadata": {
        "colab_type": "code",
        "id": "e_vQEw6sNu3C",
        "colab": {
          "base_uri": "https://localhost:8080/",
          "height": 279
        },
        "outputId": "0afbc0f4-c95b-48e9-fe8a-f72ddb70b4f5"
      },
      "source": [
        "plt.plot(r.history['loss'], label='loss')\n",
        "plt.plot(r.history['val_loss'], label='val_loss')\n",
        "plt.xlabel('Epochs')\n",
        "plt.ylabel('Loss')\n",
        "plt.legend()\n",
        "plt.show()"
      ],
      "execution_count": null,
      "outputs": [
        {
          "output_type": "display_data",
          "data": {
            "image/png": "[encoded data removed]",
            "text/plain": [
              "<Figure size 432x288 with 1 Axes>"
            ]
          },
          "metadata": {
            "tags": [],
            "needs_background": "light"
          }
        }
      ]
    },
    {
      "cell_type": "code",
      "metadata": {
        "colab_type": "code",
        "id": "HJH5pLuYNu7e",
        "colab": {
          "base_uri": "https://localhost:8080/",
          "height": 279
        },
        "outputId": "86d8ff7d-9f55-469c-aede-0beaa5dbcdd2"
      },
      "source": [
        "plt.plot(r.history['accuracy'], label='accuracy')\n",
        "plt.plot(r.history['val_accuracy'], label='val_accuracy')\n",
        "plt.xlabel('Epochs')\n",
        "plt.ylabel('Accuracy')\n",
        "plt.legend()\n",
        "plt.show()"
      ],
      "execution_count": null,
      "outputs": [
        {
          "output_type": "display_data",
          "data": {
            "image/png": "[encoded data removed]",
            "text/plain": [
              "<Figure size 432x288 with 1 Axes>"
            ]
          },
          "metadata": {
            "tags": [],
            "needs_background": "light"
          }
        }
      ]
    },
    {
      "cell_type": "markdown",
      "metadata": {
        "id": "J_SKo8DHBNgH",
        "colab_type": "text"
      },
      "source": [
        "The plots above show that the validation loss decreases and the validation accuracy increases as expected, but they plateau around the 25th epoch when the model starts to overfit and no improvement is observed. Let's evaluate the model on the test set."
      ]
    },
    {
      "cell_type": "code",
      "metadata": {
        "colab_type": "code",
        "id": "kiw1r7gZNvBP",
        "colab": {
          "base_uri": "https://localhost:8080/",
          "height": 54
        },
        "outputId": "27c717ec-9a19-4e1d-d0d6-744b6626b70d"
      },
      "source": [
        "loaded_model = load_model('/content/drive/My Drive/Data Science Projects/text_classification_wiki/bow_best_model')\n",
        "loaded_model.evaluate(X_test_bow, y_test_bow)"
      ],
      "execution_count": 10,
      "outputs": [
        {
          "output_type": "stream",
          "text": [
            "26/26 [==============================] - 0s 1ms/step - loss: 1.3015 - accuracy: 0.6080\n"
          ],
          "name": "stdout"
        },
        {
          "output_type": "execute_result",
          "data": {
            "text/plain": [
              "[1.3015376329421997, 0.6080096960067749]"
            ]
          },
          "metadata": {
            "tags": []
          },
          "execution_count": 10
        }
      ]
    },
    {
      "cell_type": "markdown",
      "metadata": {
        "id": "Xbdy4wj5xbAs",
        "colab_type": "text"
      },
      "source": [
        "We obtain a final accuracy of 60%, which is quite good considering the simplicity of this model. Let's check the confusion matrix to have a closer look on the difficulties that the model had when classifying the samples."
      ]
    },
    {
      "cell_type": "code",
      "metadata": {
        "id": "6sYvkAY-xZMT",
        "colab_type": "code",
        "colab": {}
      },
      "source": [
        "def plot_confusion_matrix(cm, classes, normalize=False, title='Confusion Matrix', cmap=plt.cm.Blues):   \n",
        "    if normalize:\n",
        "        cm = cm.astype('float') / cm.sum(axis=1)[:, np.newaxis]\n",
        "        print(\"Normalized confusion matrix\")\n",
        "    else:\n",
        "        print('Confusion matrix, without normalization')\n",
        "    print(cm)\n",
        "    \n",
        "    plt.imshow(cm, interpolation='nearest', cmap=cmap)\n",
        "    plt.title(title)\n",
        "    plt.colorbar()\n",
        "    tick_marks = np.arange(len(classes))\n",
        "    plt.xticks(tick_marks, label_encoder.inverse_transform(classes), rotation=90)\n",
        "    plt.yticks(tick_marks, label_encoder.inverse_transform(classes))\n",
        "    \n",
        "    fmt = '.2f' if normalize else 'd'\n",
        "    thresh = cm.max() / 2\n",
        "    for i, j in itertools.product(range(cm.shape[0]), range(cm.shape[1])):\n",
        "        plt.text(j, i, format(cm[i, j], fmt), horizontalalignment='center', color='white' if cm[i, j] > thresh else 'black')\n",
        "    \n",
        "    plt.tight_layout()\n",
        "    plt.ylabel('True label')\n",
        "    plt.xlabel('Predicted label')\n",
        "    plt.show()"
      ],
      "execution_count": 14,
      "outputs": []
    },
    {
      "cell_type": "code",
      "metadata": {
        "id": "bq3VMWXoxZhx",
        "colab_type": "code",
        "colab": {
          "base_uri": "https://localhost:8080/",
          "height": 513
        },
        "outputId": "2f226d3f-8b02-4c12-98bb-1decdd154ab7"
      },
      "source": [
        "y_pred = loaded_model.predict(X_test_bow).argmax(axis=1)\n",
        "cm = confusion_matrix(y_test_bow, y_pred)\n",
        "plot_confusion_matrix(cm, list(range(num_classes)))"
      ],
      "execution_count": 15,
      "outputs": [
        {
          "output_type": "stream",
          "text": [
            "Confusion matrix, without normalization\n",
            "[[81  3  6  2  2  3  0  9  6  2]\n",
            " [ 6 32  4  0  3  5  3  1  0  5]\n",
            " [ 7  0 45  2 11  2  5  6  6  1]\n",
            " [ 4  0  4 10  5  3  0  1  9  1]\n",
            " [ 9  3 13  4 40  6  1 18 12  2]\n",
            " [ 1  0  4  0  1 96  0  1  4  1]\n",
            " [ 0  0 15  0  3  0 18  1  0  2]\n",
            " [ 6  1 11  1 10  0  0 55  3  0]\n",
            " [16  1  4  5  7 17  0  7 39  0]\n",
            " [ 0  1  0  1  3  1  0  0  0 85]]\n"
          ],
          "name": "stdout"
        },
        {
          "output_type": "display_data",
          "data": {
            "image/png": "[encoded data removed]",
            "text/plain": [
              "<Figure size 432x288 with 2 Axes>"
            ]
          },
          "metadata": {
            "tags": [],
            "needs_background": "light"
          }
        }
      ]
    },
    {
      "cell_type": "markdown",
      "metadata": {
        "id": "qUEe-TiN-rCz",
        "colab_type": "text"
      },
      "source": [
        "Let's focus on the misclassified samples. The first thing that calls our attention is that the comedy genre was frequently assigned to plots of other genres. The model confused comedy mainly with drama, musical and romance. Plots belonging to these two last genres usually have \"positive\" terms, so this mislabeling is quite reasonable. On the other hand, confusing drama with comedy seems a little bit odd, since drama movies tend to be more serious. Nevertheless, a brief research on movie genres shows that drama and comedy are very broad and there is even a sub-genre called comedy-drama. The model also confused romance with drama, which makes sense since many drama movies involve love and other related aspects. There was also mislabeling between action and thriller plots, which is reasonable considering that both genres have excitement and suspense as elements. Taking into account that this model is very simple and that the aim of this work is not going deep into movie genre analysis, the results were quite good. "
      ]
    },
    {
      "cell_type": "markdown",
      "metadata": {
        "colab_type": "text",
        "id": "w_EKQy0WINr_"
      },
      "source": [
        "## Deep Learning models"
      ]
    },
    {
      "cell_type": "markdown",
      "metadata": {
        "id": "_kV57i5OtrgT",
        "colab_type": "text"
      },
      "source": [
        "In this section, a more complex/sophisticated approach will be used: word embeddings with deep learning models, namely a CNN and an LSTM. Machine learning models take arrays of numbers as input. Hence, when working with text, a strategy is needed to convert strings to numbers and word embeddings is one of the most common techniques to tackle this issue. The embeddings are a dense vector representation of each word in which similar words have similar representations/encodings. These encodings can be either learned during the training process or loaded from a pre-trained model. In this notebook, they are obtained by training a Keras Embedding layer which is added to the models."
      ]
    },
    {
      "cell_type": "code",
      "metadata": {
        "colab_type": "code",
        "id": "yFS16a3Wp1af",
        "colab": {
          "base_uri": "https://localhost:8080/",
          "height": 35
        },
        "outputId": "4d122924-e667-42d3-9cb0-0d06d7febc9c"
      },
      "source": [
        "# The Tokenizer class creates a dictionary of unique words found in the plots and assigns an integer to each word. With this, we can use them as input to the models\n",
        "tokenizer = Tokenizer()\n",
        "tokenizer.fit_on_texts(list(plots))\n",
        "\n",
        "# Getting the longest sentence. Every other sentence will be padded according to this maximum length\n",
        "max_len = np.max([len(text.split()) for text in plots])\n",
        "\n",
        "# Each plot will be converted to a list of integers (corresponding to each word in the plot)\n",
        "X = tokenizer.texts_to_sequences(list(plots))\n",
        "X = pad_sequences(X, maxlen=max_len)\n",
        "\n",
        "# The same previously encoded labels (y) are used\n",
        "print(X.shape, y.shape)"
      ],
      "execution_count": null,
      "outputs": [
        {
          "output_type": "stream",
          "text": [
            "(8580, 2845) (8580,)\n"
          ],
          "name": "stdout"
        }
      ]
    },
    {
      "cell_type": "markdown",
      "metadata": {
        "id": "ukteqfGddola",
        "colab_type": "text"
      },
      "source": [
        "The data here is also split into three sets: train (70%), validation (20%) and test (10%)."
      ]
    },
    {
      "cell_type": "code",
      "metadata": {
        "colab_type": "code",
        "id": "dxfWxf9tuSSX",
        "colab": {
          "base_uri": "https://localhost:8080/",
          "height": 35
        },
        "outputId": "7d44258a-268e-4a6f-b24b-bf3eb004d95a"
      },
      "source": [
        "X_train, X_val, y_train, y_val = train_test_split(X, y, test_size=0.2, random_state=0)\n",
        "X_train, X_test, y_train, y_test = train_test_split(X_train, y_train, test_size=0.12, random_state=0)\n",
        "\n",
        "print(X_train.shape, X_val.shape, X_test.shape)"
      ],
      "execution_count": null,
      "outputs": [
        {
          "output_type": "stream",
          "text": [
            "(6040, 2845) (1716, 2845) (824, 2845)\n"
          ],
          "name": "stdout"
        }
      ]
    },
    {
      "cell_type": "code",
      "metadata": {
        "colab_type": "code",
        "id": "uFGdoFIHSHqO",
        "colab": {
          "base_uri": "https://localhost:8080/",
          "height": 35
        },
        "outputId": "73762548-0439-44a2-b342-b05d658db529"
      },
      "source": [
        "word2idx = tokenizer.word_index\n",
        "V = len(word2idx)\n",
        "print('Total number of unique tokens (words) is', V)"
      ],
      "execution_count": null,
      "outputs": [
        {
          "output_type": "stream",
          "text": [
            "Total number of unique tokens (words) is 52732\n"
          ],
          "name": "stdout"
        }
      ]
    },
    {
      "cell_type": "markdown",
      "metadata": {
        "id": "czh684cgp-D1",
        "colab_type": "text"
      },
      "source": [
        "### CNN model"
      ]
    },
    {
      "cell_type": "markdown",
      "metadata": {
        "id": "6Uj7IIOwemIH",
        "colab_type": "text"
      },
      "source": [
        "CNNs which perform 1D convolutions are one alternative when working with sequence data such as text. The convolution kernels slide across the time axis (across the words in a sentence) and perform the feature mapping. The kernel size determines how many words are considered in one convolution. \n",
        "\n",
        "The CNN model proposed in this notebook consists of an embedding layer followed by 3 1D convolution layers with a kernel of size 3. Each time that the number of feature maps is doubled, a Max Pooling layer is added in order to summarize the learned features and reduce computational cost as well as prevent overfitting. After the final convolution layer, the model has a Global Max Pooling layer to perform a global summarization of the data taking the max values across the feature maps (instead of using a fully connected layer), a dropout layer with a rate of 0.2 to amortize overfitting and finally a dense layer with softmax activation which gives the probabilities that each sample belongs to the existing classes. An embedding dimensionality of 100 was chosen."
      ]
    },
    {
      "cell_type": "code",
      "metadata": {
        "colab_type": "code",
        "id": "tJtudYkP9GDL",
        "colab": {
          "base_uri": "https://localhost:8080/",
          "height": 531
        },
        "outputId": "db019a1f-4ef9-471a-8690-33e357dd73ca"
      },
      "source": [
        "D = 100 # D is the embedding dimensionality. \n",
        "T = X_train.shape[1] # T is the sequence (sentence) length\n",
        "\n",
        "num_classes = len(np.unique(y))\n",
        "\n",
        "i = Input(shape=(T,)) \n",
        "\n",
        "x = Embedding(V+1, D)(i) \n",
        "\n",
        "x = Conv1D(32, 3, activation='relu')(x)\n",
        "x = MaxPool1D()(x)\n",
        "\n",
        "x = Conv1D(64, 3, activation='relu')(x)\n",
        "x = MaxPool1D()(x)\n",
        "\n",
        "x = Conv1D(128, 3, activation='relu')(x)\n",
        "x = GlobalMaxPool1D()(x)\n",
        "\n",
        "x = Dropout(0.2)(x)\n",
        "\n",
        "x = Dense(num_classes, activation='softmax')(x)\n",
        "\n",
        "model = Model(i, x)\n",
        "\n",
        "model.summary()"
      ],
      "execution_count": null,
      "outputs": [
        {
          "output_type": "stream",
          "text": [
            "Model: \"model_4\"\n",
            "_________________________________________________________________\n",
            "Layer (type)                 Output Shape              Param #   \n",
            "=================================================================\n",
            "input_5 (InputLayer)         [(None, 2845)]            0         \n",
            "_________________________________________________________________\n",
            "embedding_1 (Embedding)      (None, 2845, 100)         5273300   \n",
            "_________________________________________________________________\n",
            "conv1d_3 (Conv1D)            (None, 2843, 32)          9632      \n",
            "_________________________________________________________________\n",
            "max_pooling1d_2 (MaxPooling1 (None, 1421, 32)          0         \n",
            "_________________________________________________________________\n",
            "conv1d_4 (Conv1D)            (None, 1419, 64)          6208      \n",
            "_________________________________________________________________\n",
            "max_pooling1d_3 (MaxPooling1 (None, 709, 64)           0         \n",
            "_________________________________________________________________\n",
            "conv1d_5 (Conv1D)            (None, 707, 128)          24704     \n",
            "_________________________________________________________________\n",
            "global_max_pooling1d_1 (Glob (None, 128)               0         \n",
            "_________________________________________________________________\n",
            "dropout_1 (Dropout)          (None, 128)               0         \n",
            "_________________________________________________________________\n",
            "dense_4 (Dense)              (None, 10)                1290      \n",
            "=================================================================\n",
            "Total params: 5,315,134\n",
            "Trainable params: 5,315,134\n",
            "Non-trainable params: 0\n",
            "_________________________________________________________________\n"
          ],
          "name": "stdout"
        }
      ]
    },
    {
      "cell_type": "code",
      "metadata": {
        "id": "bg5Ie38tjAI8",
        "colab_type": "code",
        "colab": {
          "base_uri": "https://localhost:8080/",
          "height": 735
        },
        "outputId": "e9758daa-34cb-40a3-b36c-4c451e2d6883"
      },
      "source": [
        "model.compile(optimizer='adam', loss='sparse_categorical_crossentropy', metrics=['accuracy'])\n",
        "\n",
        "checkpoint_filepath = '/content/drive/My Drive/Data Science Projects/text_classification_wiki/cnn_best_model'\n",
        "checkpoint_callback = ModelCheckpoint(filepath=checkpoint_filepath, monitor='val_accuracy', mode='max', save_best_only=True)\n",
        "\n",
        "r = model.fit(X_train, y_train, validation_data=(X_val, y_val), batch_size=32, epochs=15, callbacks=[checkpoint_callback])"
      ],
      "execution_count": null,
      "outputs": [
        {
          "output_type": "stream",
          "text": [
            "Epoch 1/15\n",
            "189/189 [==============================] - ETA: 0s - loss: 2.2357 - accuracy: 0.1543INFO:tensorflow:Assets written to: /content/drive/My Drive/Data Science Projects/text_classification_wiki/cnn_best_model/assets\n"
          ],
          "name": "stdout"
        },
        {
          "output_type": "stream",
          "text": [
            "INFO:tensorflow:Assets written to: /content/drive/My Drive/Data Science Projects/text_classification_wiki/cnn_best_model/assets\n"
          ],
          "name": "stderr"
        },
        {
          "output_type": "stream",
          "text": [
            "189/189 [==============================] - 21s 111ms/step - loss: 2.2357 - accuracy: 0.1543 - val_loss: 2.0641 - val_accuracy: 0.2716\n",
            "Epoch 2/15\n",
            "189/189 [==============================] - ETA: 0s - loss: 1.8467 - accuracy: 0.3374INFO:tensorflow:Assets written to: /content/drive/My Drive/Data Science Projects/text_classification_wiki/cnn_best_model/assets\n"
          ],
          "name": "stdout"
        },
        {
          "output_type": "stream",
          "text": [
            "INFO:tensorflow:Assets written to: /content/drive/My Drive/Data Science Projects/text_classification_wiki/cnn_best_model/assets\n"
          ],
          "name": "stderr"
        },
        {
          "output_type": "stream",
          "text": [
            "189/189 [==============================] - 20s 106ms/step - loss: 1.8467 - accuracy: 0.3374 - val_loss: 1.6252 - val_accuracy: 0.4161\n",
            "Epoch 3/15\n",
            "189/189 [==============================] - ETA: 0s - loss: 1.2107 - accuracy: 0.5561INFO:tensorflow:Assets written to: /content/drive/My Drive/Data Science Projects/text_classification_wiki/cnn_best_model/assets\n"
          ],
          "name": "stdout"
        },
        {
          "output_type": "stream",
          "text": [
            "INFO:tensorflow:Assets written to: /content/drive/My Drive/Data Science Projects/text_classification_wiki/cnn_best_model/assets\n"
          ],
          "name": "stderr"
        },
        {
          "output_type": "stream",
          "text": [
            "189/189 [==============================] - 21s 111ms/step - loss: 1.2107 - accuracy: 0.5561 - val_loss: 1.5360 - val_accuracy: 0.4604\n",
            "Epoch 4/15\n",
            "189/189 [==============================] - 19s 99ms/step - loss: 0.6320 - accuracy: 0.7790 - val_loss: 1.8896 - val_accuracy: 0.4417\n",
            "Epoch 5/15\n",
            "189/189 [==============================] - 18s 97ms/step - loss: 0.3153 - accuracy: 0.8962 - val_loss: 2.3550 - val_accuracy: 0.4353\n",
            "Epoch 6/15\n",
            "189/189 [==============================] - 19s 98ms/step - loss: 0.1627 - accuracy: 0.9505 - val_loss: 2.7231 - val_accuracy: 0.4598\n",
            "Epoch 7/15\n",
            "189/189 [==============================] - 18s 96ms/step - loss: 0.1059 - accuracy: 0.9709 - val_loss: 3.1518 - val_accuracy: 0.4423\n",
            "Epoch 8/15\n",
            "189/189 [==============================] - 19s 101ms/step - loss: 0.0723 - accuracy: 0.9811 - val_loss: 3.5030 - val_accuracy: 0.4225\n",
            "Epoch 9/15\n",
            "189/189 [==============================] - 18s 97ms/step - loss: 0.0705 - accuracy: 0.9826 - val_loss: 3.4464 - val_accuracy: 0.4493\n",
            "Epoch 10/15\n",
            "189/189 [==============================] - 18s 97ms/step - loss: 0.0648 - accuracy: 0.9848 - val_loss: 3.7135 - val_accuracy: 0.4260\n",
            "Epoch 11/15\n",
            "189/189 [==============================] - ETA: 0s - loss: 0.0544 - accuracy: 0.9854INFO:tensorflow:Assets written to: /content/drive/My Drive/Data Science Projects/text_classification_wiki/cnn_best_model/assets\n"
          ],
          "name": "stdout"
        },
        {
          "output_type": "stream",
          "text": [
            "INFO:tensorflow:Assets written to: /content/drive/My Drive/Data Science Projects/text_classification_wiki/cnn_best_model/assets\n"
          ],
          "name": "stderr"
        },
        {
          "output_type": "stream",
          "text": [
            "189/189 [==============================] - 20s 105ms/step - loss: 0.0544 - accuracy: 0.9854 - val_loss: 3.6793 - val_accuracy: 0.4615\n",
            "Epoch 12/15\n",
            "189/189 [==============================] - 19s 98ms/step - loss: 0.0506 - accuracy: 0.9873 - val_loss: 3.9881 - val_accuracy: 0.4563\n",
            "Epoch 13/15\n",
            "189/189 [==============================] - 19s 102ms/step - loss: 0.0376 - accuracy: 0.9909 - val_loss: 3.9169 - val_accuracy: 0.4598\n",
            "Epoch 14/15\n",
            "189/189 [==============================] - 18s 98ms/step - loss: 0.0333 - accuracy: 0.9944 - val_loss: 3.9274 - val_accuracy: 0.4476\n",
            "Epoch 15/15\n",
            "189/189 [==============================] - 19s 98ms/step - loss: 0.0326 - accuracy: 0.9930 - val_loss: 4.5996 - val_accuracy: 0.4283\n"
          ],
          "name": "stdout"
        }
      ]
    },
    {
      "cell_type": "code",
      "metadata": {
        "id": "kWyHN7yPu_Ff",
        "colab_type": "code",
        "colab": {
          "base_uri": "https://localhost:8080/",
          "height": 279
        },
        "outputId": "76e07ed4-e7be-45a4-941a-a30f932850a4"
      },
      "source": [
        "plt.plot(r.history['loss'], label='loss')\n",
        "plt.plot(r.history['val_loss'], label='val_loss')\n",
        "plt.xlabel('Epochs')\n",
        "plt.ylabel('Loss')\n",
        "plt.legend()\n",
        "plt.show()"
      ],
      "execution_count": null,
      "outputs": [
        {
          "output_type": "display_data",
          "data": {
            "image/png": "[encoded data removed]",
            "text/plain": [
              "<Figure size 432x288 with 1 Axes>"
            ]
          },
          "metadata": {
            "tags": [],
            "needs_background": "light"
          }
        }
      ]
    },
    {
      "cell_type": "code",
      "metadata": {
        "id": "3DXa5_AOu_Yr",
        "colab_type": "code",
        "colab": {
          "base_uri": "https://localhost:8080/",
          "height": 279
        },
        "outputId": "47de2899-e743-45a6-db08-c0daaf3d9e2e"
      },
      "source": [
        "plt.plot(r.history['accuracy'], label='accuracy')\n",
        "plt.plot(r.history['val_accuracy'], label='val_accuracy')\n",
        "plt.xlabel('Epochs')\n",
        "plt.ylabel('Accuracy')\n",
        "plt.legend()\n",
        "plt.show()"
      ],
      "execution_count": null,
      "outputs": [
        {
          "output_type": "display_data",
          "data": {
            "image/png": "[encoded data removed]",
            "text/plain": [
              "<Figure size 432x288 with 1 Axes>"
            ]
          },
          "metadata": {
            "tags": [],
            "needs_background": "light"
          }
        }
      ]
    },
    {
      "cell_type": "markdown",
      "metadata": {
        "id": "Vg9CY4XrJMUC",
        "colab_type": "text"
      },
      "source": [
        "The plots show that the model overfits very quickly (around the third epoch) when the validation loss starts to increase and the validation accuracy practically plateaus around 45%. Still, a small improvement in the accuracy was observed on the 11th epoch. Let's evaluate the model using the test set."
      ]
    },
    {
      "cell_type": "code",
      "metadata": {
        "id": "PfiyDD14wkJd",
        "colab_type": "code",
        "colab": {
          "base_uri": "https://localhost:8080/",
          "height": 54
        },
        "outputId": "a5ac50fe-907b-4fb0-eefd-7cc8db60725a"
      },
      "source": [
        "loaded_model = load_model('/content/drive/My Drive/Data Science Projects/text_classification_wiki/cnn_best_model')\n",
        "loaded_model.evaluate(X_test, y_test)"
      ],
      "execution_count": null,
      "outputs": [
        {
          "output_type": "stream",
          "text": [
            "26/26 [==============================] - 0s 17ms/step - loss: 3.5394 - accuracy: 0.4624\n"
          ],
          "name": "stdout"
        },
        {
          "output_type": "execute_result",
          "data": {
            "text/plain": [
              "[3.5394339561462402, 0.4623786509037018]"
            ]
          },
          "metadata": {
            "tags": []
          },
          "execution_count": 58
        }
      ]
    },
    {
      "cell_type": "markdown",
      "metadata": {
        "id": "cUfS96Qq6rlH",
        "colab_type": "text"
      },
      "source": [
        "The final accuracy is 46%, considerably lower than the one obtained in the BOW model. Let's check the confusion matrix."
      ]
    },
    {
      "cell_type": "code",
      "metadata": {
        "id": "FRz4Yr5-wkSN",
        "colab_type": "code",
        "colab": {
          "base_uri": "https://localhost:8080/",
          "height": 513
        },
        "outputId": "a00c7fc9-f2fe-4cad-8734-bb68afed401e"
      },
      "source": [
        "y_pred = loaded_model.predict(X_test).argmax(axis=1)\n",
        "cm = confusion_matrix(y_test, y_pred)\n",
        "plot_confusion_matrix(cm, list(range(num_classes)))"
      ],
      "execution_count": null,
      "outputs": [
        {
          "output_type": "stream",
          "text": [
            "Confusion matrix, without normalization\n",
            "[[36  4  1 11  8  3  0  5 28  1]\n",
            " [ 4 27  0  1  7  2  0  0  3  4]\n",
            " [ 4  4 10  5 36  1  7  3  5  2]\n",
            " [ 9  9  2 19  5  3  2  1  8  0]\n",
            " [ 8  6 13  1 39  1  5  8 20  2]\n",
            " [ 2  7  1  0  6 69  0  0 21  3]\n",
            " [ 1  1  6  2 10  0 19  2  0  3]\n",
            " [14  0  6  0 35  0  2 43  8  3]\n",
            " [ 8  4  2  8 16 11  0  1 41  0]\n",
            " [ 0  3  0  1  1  1  0  0  2 78]]\n"
          ],
          "name": "stdout"
        },
        {
          "output_type": "display_data",
          "data": {
            "image/png": "[encoded data removed]",
            "text/plain": [
              "<Figure size 432x288 with 2 Axes>"
            ]
          },
          "metadata": {
            "tags": [],
            "needs_background": "light"
          }
        }
      ]
    },
    {
      "cell_type": "markdown",
      "metadata": {
        "id": "ehRld0rj622L",
        "colab_type": "text"
      },
      "source": [
        "We observe that now drama was frequently assigned to plots of other genres. In particular, many comedy and romance plots were classified as drama. The confusion between comedy and drama is not really clear as mentioned previously, but considering that drama is a broad genre and the model's low accuracy, this interpretation is more difficult and not completely valid. Apart from some of the cases explained in the evaluation of the BOW model, the CNN model classified a considerable amount of action, drama and horror plots as thriller plots. These four genres have some elements in common such as excitement, suspense and a more serious atmosphere, so the model's interpretation is acceptable. Nevertheless, taking into account the low obtained accuracy, it is hard and questionable to justify the results, although the model seems to have learned some relevant features (horror and western movies are good examples)."
      ]
    },
    {
      "cell_type": "markdown",
      "metadata": {
        "id": "XJlCMqUDqBdN",
        "colab_type": "text"
      },
      "source": [
        "### LSTM model"
      ]
    },
    {
      "cell_type": "markdown",
      "metadata": {
        "id": "3gou74tD0OVI",
        "colab_type": "text"
      },
      "source": [
        "RNNs are the most common type of neural networks used in NLP. Their capability of modeling sequences and persisting information makes them perfectly suitable for working with NLP-related tasks such as speech recognition, language modeling and image captioning. The LSTM model used in this notebook consists of an embedding layer followed by one LSTM layer with 50 units, a Global Max Pooling layer and a dropout layer with a rate of 0.2 to amortize overfitting. The LSTM layer returns the output of each time step hidden state and the Global Max Pooling layer performs a summarization of these representations (outputs), instead of taking only the last hidden state output. It was observed that this slightly improved the validation accuracy. Finally, a dense layer with 10 units and softmax activation provides the final classification result. The chosen embedding dimensionality was 100 as in the CNN model."
      ]
    },
    {
      "cell_type": "code",
      "metadata": {
        "colab_type": "code",
        "id": "APXcIxNBSWN0",
        "colab": {
          "base_uri": "https://localhost:8080/",
          "height": 384
        },
        "outputId": "3db5bc93-8dc8-4ca2-ef05-7372ff1208c7"
      },
      "source": [
        "D = 100 \n",
        "M = 50\n",
        "T = X_train.shape[1]\n",
        "\n",
        "num_classes = len(np.unique(y))\n",
        "\n",
        "i = Input(shape=(T,)) \n",
        "\n",
        "x = Embedding(V+1, D)(i) \n",
        "\n",
        "x = LSTM(M, return_sequences=True)(x)\n",
        "\n",
        "x = GlobalMaxPool1D()(x)\n",
        "\n",
        "x = Dropout(0.2)(x)\n",
        "\n",
        "x = Dense(num_classes, activation='softmax')(x)\n",
        "\n",
        "model = Model(i, x)\n",
        "\n",
        "model.summary()"
      ],
      "execution_count": null,
      "outputs": [
        {
          "output_type": "stream",
          "text": [
            "Model: \"model_5\"\n",
            "_________________________________________________________________\n",
            "Layer (type)                 Output Shape              Param #   \n",
            "=================================================================\n",
            "input_6 (InputLayer)         [(None, 2845)]            0         \n",
            "_________________________________________________________________\n",
            "embedding_2 (Embedding)      (None, 2845, 100)         5273300   \n",
            "_________________________________________________________________\n",
            "lstm (LSTM)                  (None, 2845, 50)          30200     \n",
            "_________________________________________________________________\n",
            "global_max_pooling1d_2 (Glob (None, 50)                0         \n",
            "_________________________________________________________________\n",
            "dropout_2 (Dropout)          (None, 50)                0         \n",
            "_________________________________________________________________\n",
            "dense_5 (Dense)              (None, 10)                510       \n",
            "=================================================================\n",
            "Total params: 5,304,010\n",
            "Trainable params: 5,304,010\n",
            "Non-trainable params: 0\n",
            "_________________________________________________________________\n"
          ],
          "name": "stdout"
        }
      ]
    },
    {
      "cell_type": "code",
      "metadata": {
        "colab_type": "code",
        "id": "K5KBtG1ifcV7",
        "colab": {
          "base_uri": "https://localhost:8080/",
          "height": 698
        },
        "outputId": "e1f4ea44-9100-4cdd-f7d4-9f15e9b1df3b"
      },
      "source": [
        "model.compile(optimizer='adam', loss='sparse_categorical_crossentropy', metrics=['accuracy'])\n",
        "\n",
        "checkpoint_filepath = '/content/drive/My Drive/Data Science Projects/text_classification_wiki/lstm_best_model'\n",
        "\n",
        "checkpoint_callback = ModelCheckpoint(filepath=checkpoint_filepath, monitor='val_accuracy', mode='max', save_best_only=True)\n",
        "\n",
        "r = model.fit(X_train, y_train, validation_data=(X_val, y_val), batch_size=32, epochs=15, callbacks=[checkpoint_callback])"
      ],
      "execution_count": null,
      "outputs": [
        {
          "output_type": "stream",
          "text": [
            "Epoch 1/15\n",
            "189/189 [==============================] - ETA: 0s - loss: 2.1934 - accuracy: 0.1820INFO:tensorflow:Assets written to: /content/drive/My Drive/Data Science Projects/text_classification_wiki/lstm_best_model/assets\n"
          ],
          "name": "stdout"
        },
        {
          "output_type": "stream",
          "text": [
            "INFO:tensorflow:Assets written to: /content/drive/My Drive/Data Science Projects/text_classification_wiki/lstm_best_model/assets\n"
          ],
          "name": "stderr"
        },
        {
          "output_type": "stream",
          "text": [
            "\b\b\b\b\b\b\b\b\b\b\b\b\b\b\b\b\b\b\b\b\b\b\b\b\b\b\b\b\b\b\b\b\b\b\b\b\b\b\b\b\b\b\b\b\b\b\b\b\b\b\b\b\b\b\b\b\b\b\b\b\b\b\b\b\b\b\b\b\b\b\b\b\b\b\b\b\b\b\b\b\b\b\b\b\r189/189 [==============================] - 74s 390ms/step - loss: 2.1934 - accuracy: 0.1820 - val_loss: 1.9256 - val_accuracy: 0.3473\n",
            "Epoch 2/15\n",
            "189/189 [==============================] - ETA: 0s - loss: 1.6599 - accuracy: 0.4245INFO:tensorflow:Assets written to: /content/drive/My Drive/Data Science Projects/text_classification_wiki/lstm_best_model/assets\n"
          ],
          "name": "stdout"
        },
        {
          "output_type": "stream",
          "text": [
            "INFO:tensorflow:Assets written to: /content/drive/My Drive/Data Science Projects/text_classification_wiki/lstm_best_model/assets\n"
          ],
          "name": "stderr"
        },
        {
          "output_type": "stream",
          "text": [
            "\b\b\b\b\b\b\b\b\b\b\b\b\b\b\b\b\b\b\b\b\b\b\b\b\b\b\b\b\b\b\b\b\b\b\b\b\b\b\b\b\b\b\b\b\b\b\b\b\b\b\b\b\b\b\b\b\b\b\b\b\b\b\b\b\b\b\b\b\b\b\b\b\b\b\b\b\b\b\b\b\b\b\b\b\r189/189 [==============================] - 72s 381ms/step - loss: 1.6599 - accuracy: 0.4245 - val_loss: 1.5651 - val_accuracy: 0.4586\n",
            "Epoch 3/15\n",
            "189/189 [==============================] - ETA: 0s - loss: 1.1963 - accuracy: 0.5848INFO:tensorflow:Assets written to: /content/drive/My Drive/Data Science Projects/text_classification_wiki/lstm_best_model/assets\n"
          ],
          "name": "stdout"
        },
        {
          "output_type": "stream",
          "text": [
            "INFO:tensorflow:Assets written to: /content/drive/My Drive/Data Science Projects/text_classification_wiki/lstm_best_model/assets\n"
          ],
          "name": "stderr"
        },
        {
          "output_type": "stream",
          "text": [
            "\b\b\b\b\b\b\b\b\b\b\b\b\b\b\b\b\b\b\b\b\b\b\b\b\b\b\b\b\b\b\b\b\b\b\b\b\b\b\b\b\b\b\b\b\b\b\b\b\b\b\b\b\b\b\b\b\b\b\b\b\b\b\b\b\b\b\b\b\b\b\b\b\b\b\b\b\b\b\b\b\b\b\b\b\r189/189 [==============================] - 71s 373ms/step - loss: 1.1963 - accuracy: 0.5848 - val_loss: 1.4810 - val_accuracy: 0.4837\n",
            "Epoch 4/15\n",
            "189/189 [==============================] - 65s 343ms/step - loss: 0.8513 - accuracy: 0.7250 - val_loss: 1.5654 - val_accuracy: 0.4779\n",
            "Epoch 5/15\n",
            "189/189 [==============================] - 65s 343ms/step - loss: 0.6585 - accuracy: 0.8099 - val_loss: 1.8108 - val_accuracy: 0.4388\n",
            "Epoch 6/15\n",
            "189/189 [==============================] - 65s 342ms/step - loss: 0.4239 - accuracy: 0.8975 - val_loss: 1.6938 - val_accuracy: 0.4790\n",
            "Epoch 7/15\n",
            "189/189 [==============================] - 65s 343ms/step - loss: 0.2762 - accuracy: 0.9354 - val_loss: 1.7392 - val_accuracy: 0.4674\n",
            "Epoch 8/15\n",
            "189/189 [==============================] - 65s 342ms/step - loss: 0.1807 - accuracy: 0.9672 - val_loss: 1.9204 - val_accuracy: 0.4732\n",
            "Epoch 9/15\n",
            "189/189 [==============================] - 65s 342ms/step - loss: 0.1598 - accuracy: 0.9684 - val_loss: 1.9727 - val_accuracy: 0.4580\n",
            "Epoch 10/15\n",
            "189/189 [==============================] - 65s 343ms/step - loss: 0.1126 - accuracy: 0.9790 - val_loss: 2.1290 - val_accuracy: 0.4761\n",
            "Epoch 11/15\n",
            "189/189 [==============================] - 65s 342ms/step - loss: 0.0766 - accuracy: 0.9873 - val_loss: 2.1528 - val_accuracy: 0.4592\n",
            "Epoch 12/15\n",
            "189/189 [==============================] - 65s 343ms/step - loss: 0.1993 - accuracy: 0.9570 - val_loss: 2.5402 - val_accuracy: 0.4155\n",
            "Epoch 13/15\n",
            "189/189 [==============================] - 65s 343ms/step - loss: 0.4439 - accuracy: 0.8654 - val_loss: 2.1493 - val_accuracy: 0.4120\n",
            "Epoch 14/15\n",
            "189/189 [==============================] - 65s 343ms/step - loss: 0.2803 - accuracy: 0.9210 - val_loss: 2.1846 - val_accuracy: 0.4435\n",
            "Epoch 15/15\n",
            "189/189 [==============================] - 65s 343ms/step - loss: 0.2390 - accuracy: 0.9416 - val_loss: 2.6857 - val_accuracy: 0.3747\n"
          ],
          "name": "stdout"
        }
      ]
    },
    {
      "cell_type": "code",
      "metadata": {
        "colab_type": "code",
        "id": "IyUSqjKgZdYV",
        "colab": {
          "base_uri": "https://localhost:8080/",
          "height": 279
        },
        "outputId": "47701156-0be4-4df7-d8fe-a6cdba9c5c2f"
      },
      "source": [
        "plt.plot(r.history['loss'], label='loss')\n",
        "plt.plot(r.history['val_loss'], label='val_loss')\n",
        "plt.xlabel('Epochs')\n",
        "plt.ylabel('Loss')\n",
        "plt.legend()\n",
        "plt.show()"
      ],
      "execution_count": null,
      "outputs": [
        {
          "output_type": "display_data",
          "data": {
            "image/png": "[encoded data removed]",
            "text/plain": [
              "<Figure size 432x288 with 1 Axes>"
            ]
          },
          "metadata": {
            "tags": [],
            "needs_background": "light"
          }
        }
      ]
    },
    {
      "cell_type": "code",
      "metadata": {
        "id": "IlnGaA294oJw",
        "colab_type": "code",
        "colab": {
          "base_uri": "https://localhost:8080/",
          "height": 279
        },
        "outputId": "057be533-353f-43d6-d911-151e69cfa954"
      },
      "source": [
        "plt.plot(r.history['accuracy'], label='accuracy')\n",
        "plt.plot(r.history['val_accuracy'], label='val_accuracy')\n",
        "plt.xlabel('Epochs')\n",
        "plt.ylabel('Accuracy')\n",
        "plt.legend()\n",
        "plt.show()"
      ],
      "execution_count": null,
      "outputs": [
        {
          "output_type": "display_data",
          "data": {
            "image/png": "[encoded data removed]",
            "text/plain": [
              "<Figure size 432x288 with 1 Axes>"
            ]
          },
          "metadata": {
            "tags": [],
            "needs_background": "light"
          }
        }
      ]
    },
    {
      "cell_type": "markdown",
      "metadata": {
        "id": "io94Z_AzMixp",
        "colab_type": "text"
      },
      "source": [
        "Just as with the CNN model, the LSTM model overfits very quickly (around the third epoch, when the last improvement in the validation accuracy was observed). Let's evaluate the model on the test set to get the final accuracy.\n"
      ]
    },
    {
      "cell_type": "code",
      "metadata": {
        "id": "Ff8qop044oRm",
        "colab_type": "code",
        "colab": {
          "base_uri": "https://localhost:8080/",
          "height": 54
        },
        "outputId": "97c51aa8-5d19-44d6-c70f-840c0709585d"
      },
      "source": [
        "loaded_model = load_model('/content/drive/My Drive/Data Science Projects/text_classification_wiki/lstm_best_model')\n",
        "loaded_model.evaluate(X_test, y_test)"
      ],
      "execution_count": null,
      "outputs": [
        {
          "output_type": "stream",
          "text": [
            "26/26 [==============================] - 3s 127ms/step - loss: 1.4202 - accuracy: 0.4879\n"
          ],
          "name": "stdout"
        },
        {
          "output_type": "execute_result",
          "data": {
            "text/plain": [
              "[1.4201701879501343, 0.48786407709121704]"
            ]
          },
          "metadata": {
            "tags": []
          },
          "execution_count": 66
        }
      ]
    },
    {
      "cell_type": "markdown",
      "metadata": {
        "id": "DK9mdsY9qbJk",
        "colab_type": "text"
      },
      "source": [
        "The final accuracy is 49%, just slightly better than the CNN model."
      ]
    },
    {
      "cell_type": "code",
      "metadata": {
        "id": "pwzsDhUv4oYD",
        "colab_type": "code",
        "colab": {
          "base_uri": "https://localhost:8080/",
          "height": 513
        },
        "outputId": "f85e8dae-f6f5-4296-ff96-306ff62d3a25"
      },
      "source": [
        "y_pred = loaded_model.predict(X_test).argmax(axis=1)\n",
        "cm = confusion_matrix(y_test, y_pred)\n",
        "plot_confusion_matrix(cm, list(range(num_classes)))"
      ],
      "execution_count": null,
      "outputs": [
        {
          "output_type": "stream",
          "text": [
            "Confusion matrix, without normalization\n",
            "[[48  0  4 11  1  5  0  9 16  3]\n",
            " [ 7  7  5  1  4  6  0  0  9  9]\n",
            " [ 3  2 50  3  3  1  0  7  8  0]\n",
            " [18  0  6 20  1  3  0  1  7  2]\n",
            " [ 8  1 43  4 10  1  1 15 15  5]\n",
            " [ 1  0  3  4  0 87  0  1 12  1]\n",
            " [ 2  1 32  0  1  0  6  1  0  1]\n",
            " [ 7  0 30  0  4  1  0 65  3  1]\n",
            " [ 7  1 12 13  2 24  0  3 29  0]\n",
            " [ 1  2  1  1  1  0  0  0  0 80]]\n"
          ],
          "name": "stdout"
        },
        {
          "output_type": "display_data",
          "data": {
            "image/png": "[encoded data removed]",
            "text/plain": [
              "<Figure size 432x288 with 2 Axes>"
            ]
          },
          "metadata": {
            "tags": [],
            "needs_background": "light"
          }
        }
      ]
    },
    {
      "cell_type": "markdown",
      "metadata": {
        "id": "2r_KzgKXpfnr",
        "colab_type": "text"
      },
      "source": [
        "In this model, the comedy genre was once again frequently assigned to plots belonging to other genres. It is relevant to remember that comedy and drama are in the 5 most frequent genres of the dataset after preprocessing, so a bias towards comedy and drama is expected. Although horror and action movies are as frequent as comedy and drama, their plots seem to have words which are more specific and better describe the essence of each genre. The model showed better results in the classification of action, comedy, horror and romance plots when compared to the CNN model. Therefore, it is reasonable to affirm that LSTM's   capacity of modeling sequences and capturing temporal dependencies was a reason for the improvement in the accuracy."
      ]
    },
    {
      "cell_type": "markdown",
      "metadata": {
        "id": "9vTI8J4o6AAY",
        "colab_type": "text"
      },
      "source": [
        "# Binary classification"
      ]
    },
    {
      "cell_type": "markdown",
      "metadata": {
        "id": "AO2tXljzQvmN",
        "colab_type": "text"
      },
      "source": [
        "For multiclass classification we had the class imbalance problem, which was amortized by sampling a smaller amount of plots belonging to the most frequent genres (drama and comedy). However, the amount of data (which was already small) was considerably reduced with this process, so the task was impaired and the results were not satisfying. Now a binary classification between drama and comedy will be experimented using the same models as in the previous task. This binary classification is interesting because the two most frequente genres will be used and it was observed that the previous models seemed to have difficulty when distinguishing between both."
      ]
    },
    {
      "cell_type": "code",
      "metadata": {
        "id": "H8ItQa4C6IEy",
        "colab_type": "code",
        "colab": {
          "base_uri": "https://localhost:8080/",
          "height": 206
        },
        "outputId": "297c0cb8-74ff-490c-a805-510223efbbf9"
      },
      "source": [
        "df_preprocessed_binary = pd.read_csv('/content/drive/My Drive/Data Science Projects/text_classification_wiki/df_preprocessed_binary.csv')\n",
        "df_preprocessed_binary.head()"
      ],
      "execution_count": null,
      "outputs": [
        {
          "output_type": "execute_result",
          "data": {
            "text/html": [
              "<div>\n",
              "<style scoped>\n",
              "    .dataframe tbody tr th:only-of-type {\n",
              "        vertical-align: middle;\n",
              "    }\n",
              "\n",
              "    .dataframe tbody tr th {\n",
              "        vertical-align: top;\n",
              "    }\n",
              "\n",
              "    .dataframe thead th {\n",
              "        text-align: right;\n",
              "    }\n",
              "</style>\n",
              "<table border=\"1\" class=\"dataframe\">\n",
              "  <thead>\n",
              "    <tr style=\"text-align: right;\">\n",
              "      <th></th>\n",
              "      <th>plot</th>\n",
              "      <th>genre</th>\n",
              "    </tr>\n",
              "  </thead>\n",
              "  <tbody>\n",
              "    <tr>\n",
              "      <th>0</th>\n",
              "      <td>film famili move suburb hope quiet life thing ...</td>\n",
              "      <td>comedy</td>\n",
              "    </tr>\n",
              "    <tr>\n",
              "      <th>1</th>\n",
              "      <td>head basebal game nearbi ballpark sport fan mr...</td>\n",
              "      <td>comedy</td>\n",
              "    </tr>\n",
              "    <tr>\n",
              "      <th>2</th>\n",
              "      <td>plot black woman go dentist toothach given lau...</td>\n",
              "      <td>comedy</td>\n",
              "    </tr>\n",
              "    <tr>\n",
              "      <th>3</th>\n",
              "      <td>beauti summer day father mother take daughter ...</td>\n",
              "      <td>drama</td>\n",
              "    </tr>\n",
              "    <tr>\n",
              "      <th>4</th>\n",
              "      <td>thug accost girl leav workplac man rescu her t...</td>\n",
              "      <td>drama</td>\n",
              "    </tr>\n",
              "  </tbody>\n",
              "</table>\n",
              "</div>"
            ],
            "text/plain": [
              "                                                plot   genre\n",
              "0  film famili move suburb hope quiet life thing ...  comedy\n",
              "1  head basebal game nearbi ballpark sport fan mr...  comedy\n",
              "2  plot black woman go dentist toothach given lau...  comedy\n",
              "3  beauti summer day father mother take daughter ...   drama\n",
              "4  thug accost girl leav workplac man rescu her t...   drama"
            ]
          },
          "metadata": {
            "tags": []
          },
          "execution_count": 71
        }
      ]
    },
    {
      "cell_type": "markdown",
      "metadata": {
        "id": "xnCbHcy6N4OT",
        "colab_type": "text"
      },
      "source": [
        "Checking the genre distribution and the plots column."
      ]
    },
    {
      "cell_type": "code",
      "metadata": {
        "id": "x024UtPD6Ii1",
        "colab_type": "code",
        "colab": {
          "base_uri": "https://localhost:8080/",
          "height": 72
        },
        "outputId": "6f3e03ce-6d66-4626-a9f3-363aedef049d"
      },
      "source": [
        "df_preprocessed_binary['genre'].value_counts()"
      ],
      "execution_count": null,
      "outputs": [
        {
          "output_type": "execute_result",
          "data": {
            "text/plain": [
              "drama     5964\n",
              "comedy    4379\n",
              "Name: genre, dtype: int64"
            ]
          },
          "metadata": {
            "tags": []
          },
          "execution_count": 72
        }
      ]
    },
    {
      "cell_type": "code",
      "metadata": {
        "id": "fmekIwZF6Ioe",
        "colab_type": "code",
        "colab": {
          "base_uri": "https://localhost:8080/",
          "height": 184
        },
        "outputId": "ab6a1ce1-9494-47c1-9a4d-a38f0bfab18b"
      },
      "source": [
        "plots = df_preprocessed_binary['plot'].values\n",
        "plots"
      ],
      "execution_count": null,
      "outputs": [
        {
          "output_type": "execute_result",
          "data": {
            "text/plain": [
              "array(['film famili move suburb hope quiet life thing start go wrong wife get violent start throw crockeri lead arrest',\n",
              "       'head basebal game nearbi ballpark sport fan mr brown drink sever highbal cocktail arriv ballpark watch game becom inebri game appear revers player run base backward basebal fli back pitcher hand game over mr brown escort home one friend arriv brown hous encount wife becom furiou friend proce physic assault him believ respons husband sever',\n",
              "       'plot black woman go dentist toothach given laugh ga way walk home situat cant stop laugh everyon meet catch laughter her includ vendor polic offic',\n",
              "       ...,\n",
              "       'film open senegales boy name khadim told littl sister aya fallen rock parent two kid debat whether take aya hospit sinc hospit white khadim aya famili black parent quickli decid go white hospit hospit far away hope find car give lift car white coupl tour lake retba area actual pass husband tell wife listen tour guid told never stop might rob so white coupl pass black seneg famili adult scream help muslim turkish woman zehra veil shown checkin airport istanbul muslim man name harun approach her surpris drop pen break it zehra harun know might relationship head differ countri teach school open turkish entrepreneur zehra head kabul afghanistan harun head seneg say theyr farewel exchang gift harun give zehra pen sinc broken zehra give harun tape creat him scene shift man adem pregnant wife meltem mother zeyneb also say goodby adem also head teach turkish school open turkish entrepreneur bosnia adem teach student word selam greet adem say word mani mean signifi peac later adem show student gestur one also mean selam teacher room adem contempl pictur pregnant wife meltem stuck locker miss irina enter ask adem could talk almir particip sing contest event school hold turkey adem ask irina want talk almir sinc muslim almir also muslim irina explain case reason bosnian could remov turkish tradit countri turk came say selam zehra teach student mani river bosnia river connect one thing connect river selam boy name salim brother decid go turkish soldier guard time meat salim famili poor cannot meat soldier offer meat eat it mother show take away salim brother mahmut found lay ground mother shout salim go soldier eat meat sinc cannot afford mahmut tri it want everyday aya brother khadim seen cri grave mother approach white shirt khadim refus put belong white believ white caus sister aya die aya khadim father musa goe school harun work manag look job harun offer musa job return harun offer take musa son student school also offer famili accommod musa goe wife son khadim tell nice harun treat him believ say white peopl evil musa wife son khadem go school harun work khadem like idea go white school famili enter see harun play soccer group black kid khadem sit beach confus harun white man treat well contrast white peopl khadem wonder color black white color hate eid al adha second two muslim holiday arriv muslim turkey afghanistan africa bosnia seen pray eid prayer harun harun father adem pray one god allah turk give away free meat eid salim would like brother mahmut protein defici ask zehra could give distract salim get meat adem teach student sacrif meat eid al adha almir agre particip sing contest condit particip sasha zehra bring meat salim home salim mother want take poor cannot afford kid ask again practic sing almir take sasha bridg tri kill him so fall river adem jump them adem manag save tell almir river bridg although adem save them drown die student teacher kabul sarajevo seneg go istanbul contest harun mother abl save money build well seneg turn zehra harun student sing song end sing togeth harun zehra final meetup almir sasha sing togeth promis take care adem orphan child movi end adem voic say one want happi must make someon els happi one must spread selam',\n",
              "       'two musician salih gürkan describ adventur cousin',\n",
              "       'zafer sailor live mother döndü coastal villag izmir separ girlfriend mehtap whose father also sailor döndü friend fahriy tri help zafer marri someon famili famou talent actress aslı surprisingli attend zafer boat tour asli zafer find get know other'],\n",
              "      dtype=object)"
            ]
          },
          "metadata": {
            "tags": []
          },
          "execution_count": 73
        }
      ]
    },
    {
      "cell_type": "markdown",
      "metadata": {
        "id": "gSRiy-EmOFpk",
        "colab_type": "text"
      },
      "source": [
        "Although the class imbalance problem still exists, it is not very expressive and the distribution is quite even considering that this is \"real data\". Now let's encode the genres (comedy and drama) with integers."
      ]
    },
    {
      "cell_type": "code",
      "metadata": {
        "id": "NGiXCgLoDHv1",
        "colab_type": "code",
        "colab": {
          "base_uri": "https://localhost:8080/",
          "height": 54
        },
        "outputId": "8d4a1fbc-bd95-4e10-8b28-773a8c168331"
      },
      "source": [
        "y = df_preprocessed_binary['genre'].values\n",
        "label_encoder = LabelEncoder()\n",
        "label_encoder.fit(list(y))\n",
        "\n",
        "y = label_encoder.transform(list(y))\n",
        "print('labels:', np.unique(y))\n",
        "print('corresponding classes:', list(label_encoder.inverse_transform(np.unique(y))))"
      ],
      "execution_count": null,
      "outputs": [
        {
          "output_type": "stream",
          "text": [
            "labels: [0 1]\n",
            "corresponding classes: ['comedy', 'drama']\n"
          ],
          "name": "stdout"
        }
      ]
    },
    {
      "cell_type": "markdown",
      "metadata": {
        "id": "FMCdvK2v8yXa",
        "colab_type": "text"
      },
      "source": [
        "## BOW Model"
      ]
    },
    {
      "cell_type": "code",
      "metadata": {
        "id": "yCMgVdL-6Irg",
        "colab_type": "code",
        "colab": {
          "base_uri": "https://localhost:8080/",
          "height": 35
        },
        "outputId": "7e45b627-afec-4048-8588-df335a2a90ee"
      },
      "source": [
        "tfidf = TfidfVectorizer()\n",
        "tfidf_matrix = tfidf.fit_transform(df_preprocessed_binary['plot'])\n",
        "tfidf_matrix.sort_indices() \n",
        "\n",
        "print('tf-idf matrix shape:', tfidf_matrix.shape) # shape: (documents, words)"
      ],
      "execution_count": null,
      "outputs": [
        {
          "output_type": "stream",
          "text": [
            "tf-idf matrix shape: (10343, 56500)\n"
          ],
          "name": "stdout"
        }
      ]
    },
    {
      "cell_type": "code",
      "metadata": {
        "id": "ZkV4OnJx6IwM",
        "colab_type": "code",
        "colab": {
          "base_uri": "https://localhost:8080/",
          "height": 35
        },
        "outputId": "8d7c6c08-a392-41f1-feb5-e2109b0df8b5"
      },
      "source": [
        "X_train_bow, X_val_bow, y_train_bow, y_val_bow = train_test_split(tfidf_matrix, y, test_size=0.2, random_state=0)\n",
        "X_train_bow, X_test_bow, y_train_bow, y_test_bow = train_test_split(X_train_bow, y_train_bow, test_size=0.12, random_state=0, shuffle=False)\n",
        "\n",
        "print(X_train_bow.shape, X_val_bow.shape, X_test_bow.shape)"
      ],
      "execution_count": null,
      "outputs": [
        {
          "output_type": "stream",
          "text": [
            "(7281, 56500) (2069, 56500) (993, 56500)\n"
          ],
          "name": "stdout"
        }
      ]
    },
    {
      "cell_type": "markdown",
      "metadata": {
        "id": "M9KLC6NR_nH2",
        "colab_type": "text"
      },
      "source": [
        "The only changes in the model when comparing to the BOW model in the multiclass classification were the output layer (which now has only a single neuron with sigmoid activation function) and the loss function (now the binary cross-entropy is used)."
      ]
    },
    {
      "cell_type": "code",
      "metadata": {
        "id": "OpqIOycg6I1P",
        "colab_type": "code",
        "colab": {
          "base_uri": "https://localhost:8080/",
          "height": 1000
        },
        "outputId": "dae091c8-a93b-45c5-86f3-6bb7c34aa01c"
      },
      "source": [
        "T = tfidf_matrix.shape[1] \n",
        "i = Input(shape=(T,)) \n",
        "x = Dense(1, activation='sigmoid')(i)\n",
        "\n",
        "model = Model(i, x)\n",
        "\n",
        "model.compile(optimizer='adam', loss='binary_crossentropy', metrics=['accuracy'])\n",
        "\n",
        "checkpoint_filepath = './bow_best_model_binary'\n",
        "checkpoint_callback = ModelCheckpoint(filepath=checkpoint_filepath, monitor='val_accuracy', mode='max', save_best_only=True)\n",
        "\n",
        "r = model.fit(X_train_bow.todense(), y_train_bow, validation_data=(X_val_bow.todense(), y_val_bow), batch_size=32, epochs=40, callbacks=[checkpoint_callback])"
      ],
      "execution_count": null,
      "outputs": [
        {
          "output_type": "stream",
          "text": [
            "Train on 7281 samples, validate on 2069 samples\n",
            "Epoch 1/40\n",
            "7168/7281 [============================>.] - ETA: 0s - loss: 0.6797 - accuracy: 0.5774INFO:tensorflow:Assets written to: ./bow_best_model_binary/assets\n",
            "7281/7281 [==============================] - 3s 423us/sample - loss: 0.6797 - accuracy: 0.5770 - val_loss: 0.6711 - val_accuracy: 0.5660\n",
            "Epoch 2/40\n",
            "7104/7281 [============================>.] - ETA: 0s - loss: 0.6526 - accuracy: 0.5797INFO:tensorflow:Assets written to: ./bow_best_model_binary/assets\n",
            "7281/7281 [==============================] - 3s 371us/sample - loss: 0.6524 - accuracy: 0.5796 - val_loss: 0.6570 - val_accuracy: 0.5669\n",
            "Epoch 3/40\n",
            "7264/7281 [============================>.] - ETA: 0s - loss: 0.6294 - accuracy: 0.5973INFO:tensorflow:Assets written to: ./bow_best_model_binary/assets\n",
            "7281/7281 [==============================] - 3s 381us/sample - loss: 0.6293 - accuracy: 0.5973 - val_loss: 0.6441 - val_accuracy: 0.5863\n",
            "Epoch 4/40\n",
            "7072/7281 [============================>.] - ETA: 0s - loss: 0.6082 - accuracy: 0.6475INFO:tensorflow:Assets written to: ./bow_best_model_binary/assets\n",
            "7281/7281 [==============================] - 3s 377us/sample - loss: 0.6078 - accuracy: 0.6491 - val_loss: 0.6320 - val_accuracy: 0.6172\n",
            "Epoch 5/40\n",
            "7168/7281 [============================>.] - ETA: 0s - loss: 0.5878 - accuracy: 0.7132INFO:tensorflow:Assets written to: ./bow_best_model_binary/assets\n",
            "7281/7281 [==============================] - 3s 373us/sample - loss: 0.5875 - accuracy: 0.7139 - val_loss: 0.6207 - val_accuracy: 0.6559\n",
            "Epoch 6/40\n",
            "7136/7281 [============================>.] - ETA: 0s - loss: 0.5687 - accuracy: 0.7744INFO:tensorflow:Assets written to: ./bow_best_model_binary/assets\n",
            "7281/7281 [==============================] - 3s 368us/sample - loss: 0.5684 - accuracy: 0.7752 - val_loss: 0.6103 - val_accuracy: 0.6810\n",
            "Epoch 7/40\n",
            "7168/7281 [============================>.] - ETA: 0s - loss: 0.5507 - accuracy: 0.8078INFO:tensorflow:Assets written to: ./bow_best_model_binary/assets\n",
            "7281/7281 [==============================] - 3s 380us/sample - loss: 0.5504 - accuracy: 0.8088 - val_loss: 0.6004 - val_accuracy: 0.7076\n",
            "Epoch 8/40\n",
            "7104/7281 [============================>.] - ETA: 0s - loss: 0.5331 - accuracy: 0.8380INFO:tensorflow:Assets written to: ./bow_best_model_binary/assets\n",
            "7281/7281 [==============================] - 3s 381us/sample - loss: 0.5333 - accuracy: 0.8372 - val_loss: 0.5915 - val_accuracy: 0.7197\n",
            "Epoch 9/40\n",
            "7104/7281 [============================>.] - ETA: 0s - loss: 0.5176 - accuracy: 0.8577INFO:tensorflow:Assets written to: ./bow_best_model_binary/assets\n",
            "7281/7281 [==============================] - 3s 381us/sample - loss: 0.5171 - accuracy: 0.8574 - val_loss: 0.5829 - val_accuracy: 0.7361\n",
            "Epoch 10/40\n",
            "7200/7281 [============================>.] - ETA: 0s - loss: 0.5020 - accuracy: 0.8724INFO:tensorflow:Assets written to: ./bow_best_model_binary/assets\n",
            "7281/7281 [==============================] - 3s 382us/sample - loss: 0.5018 - accuracy: 0.8725 - val_loss: 0.5750 - val_accuracy: 0.7424\n",
            "Epoch 11/40\n",
            "7136/7281 [============================>.] - ETA: 0s - loss: 0.4875 - accuracy: 0.8823INFO:tensorflow:Assets written to: ./bow_best_model_binary/assets\n",
            "7281/7281 [==============================] - 3s 378us/sample - loss: 0.4873 - accuracy: 0.8831 - val_loss: 0.5675 - val_accuracy: 0.7530\n",
            "Epoch 12/40\n",
            "7072/7281 [============================>.] - ETA: 0s - loss: 0.4734 - accuracy: 0.8934INFO:tensorflow:Assets written to: ./bow_best_model_binary/assets\n",
            "7281/7281 [==============================] - 3s 376us/sample - loss: 0.4735 - accuracy: 0.8934 - val_loss: 0.5606 - val_accuracy: 0.7583\n",
            "Epoch 13/40\n",
            "7200/7281 [============================>.] - ETA: 0s - loss: 0.4608 - accuracy: 0.9015INFO:tensorflow:Assets written to: ./bow_best_model_binary/assets\n",
            "7281/7281 [==============================] - 3s 373us/sample - loss: 0.4603 - accuracy: 0.9018 - val_loss: 0.5542 - val_accuracy: 0.7603\n",
            "Epoch 14/40\n",
            "7136/7281 [============================>.] - ETA: 0s - loss: 0.4479 - accuracy: 0.9060INFO:tensorflow:Assets written to: ./bow_best_model_binary/assets\n",
            "7281/7281 [==============================] - 3s 387us/sample - loss: 0.4477 - accuracy: 0.9063 - val_loss: 0.5480 - val_accuracy: 0.7675\n",
            "Epoch 15/40\n",
            "7072/7281 [============================>.] - ETA: 0s - loss: 0.4355 - accuracy: 0.9135INFO:tensorflow:Assets written to: ./bow_best_model_binary/assets\n",
            "7281/7281 [==============================] - 3s 392us/sample - loss: 0.4357 - accuracy: 0.9125 - val_loss: 0.5422 - val_accuracy: 0.7695\n",
            "Epoch 16/40\n",
            "7104/7281 [============================>.] - ETA: 0s - loss: 0.4244 - accuracy: 0.9191INFO:tensorflow:Assets written to: ./bow_best_model_binary/assets\n",
            "7281/7281 [==============================] - 3s 390us/sample - loss: 0.4242 - accuracy: 0.9190 - val_loss: 0.5370 - val_accuracy: 0.7724\n",
            "Epoch 17/40\n",
            "7168/7281 [============================>.] - ETA: 0s - loss: 0.4129 - accuracy: 0.9216INFO:tensorflow:Assets written to: ./bow_best_model_binary/assets\n",
            "7281/7281 [==============================] - 3s 377us/sample - loss: 0.4132 - accuracy: 0.9216 - val_loss: 0.5317 - val_accuracy: 0.7782\n",
            "Epoch 18/40\n",
            "7281/7281 [==============================] - 2s 338us/sample - loss: 0.4026 - accuracy: 0.9271 - val_loss: 0.5270 - val_accuracy: 0.7782\n",
            "Epoch 19/40\n",
            "7200/7281 [============================>.] - ETA: 0s - loss: 0.3922 - accuracy: 0.9300INFO:tensorflow:Assets written to: ./bow_best_model_binary/assets\n",
            "7281/7281 [==============================] - 3s 374us/sample - loss: 0.3925 - accuracy: 0.9294 - val_loss: 0.5225 - val_accuracy: 0.7796\n",
            "Epoch 20/40\n",
            "7168/7281 [============================>.] - ETA: 0s - loss: 0.3831 - accuracy: 0.9339INFO:tensorflow:Assets written to: ./bow_best_model_binary/assets\n",
            "7281/7281 [==============================] - 3s 367us/sample - loss: 0.3827 - accuracy: 0.9341 - val_loss: 0.5182 - val_accuracy: 0.7801\n",
            "Epoch 21/40\n",
            "7281/7281 [==============================] - 2s 335us/sample - loss: 0.3733 - accuracy: 0.9378 - val_loss: 0.5140 - val_accuracy: 0.7796\n",
            "Epoch 22/40\n",
            "7136/7281 [============================>.] - ETA: 0s - loss: 0.3635 - accuracy: 0.9423INFO:tensorflow:Assets written to: ./bow_best_model_binary/assets\n",
            "7281/7281 [==============================] - 3s 376us/sample - loss: 0.3642 - accuracy: 0.9411 - val_loss: 0.5102 - val_accuracy: 0.7811\n",
            "Epoch 23/40\n",
            "7168/7281 [============================>.] - ETA: 0s - loss: 0.3556 - accuracy: 0.9443INFO:tensorflow:Assets written to: ./bow_best_model_binary/assets\n",
            "7281/7281 [==============================] - 3s 363us/sample - loss: 0.3555 - accuracy: 0.9444 - val_loss: 0.5066 - val_accuracy: 0.7830\n",
            "Epoch 24/40\n",
            "7264/7281 [============================>.] - ETA: 0s - loss: 0.3469 - accuracy: 0.9463INFO:tensorflow:Assets written to: ./bow_best_model_binary/assets\n",
            "7281/7281 [==============================] - 3s 374us/sample - loss: 0.3471 - accuracy: 0.9460 - val_loss: 0.5030 - val_accuracy: 0.7878\n",
            "Epoch 25/40\n",
            "7281/7281 [==============================] - 2s 339us/sample - loss: 0.3390 - accuracy: 0.9496 - val_loss: 0.4998 - val_accuracy: 0.7873\n",
            "Epoch 26/40\n",
            "7281/7281 [==============================] - 2s 340us/sample - loss: 0.3311 - accuracy: 0.9512 - val_loss: 0.4967 - val_accuracy: 0.7873\n",
            "Epoch 27/40\n",
            "7168/7281 [============================>.] - ETA: 0s - loss: 0.3236 - accuracy: 0.9544INFO:tensorflow:Assets written to: ./bow_best_model_binary/assets\n",
            "7281/7281 [==============================] - 3s 377us/sample - loss: 0.3235 - accuracy: 0.9543 - val_loss: 0.4938 - val_accuracy: 0.7888\n",
            "Epoch 28/40\n",
            "7232/7281 [============================>.] - ETA: 0s - loss: 0.3163 - accuracy: 0.9562INFO:tensorflow:Assets written to: ./bow_best_model_binary/assets\n",
            "7281/7281 [==============================] - 3s 371us/sample - loss: 0.3161 - accuracy: 0.9563 - val_loss: 0.4909 - val_accuracy: 0.7898\n",
            "Epoch 29/40\n",
            "7200/7281 [============================>.] - ETA: 0s - loss: 0.3091 - accuracy: 0.9575INFO:tensorflow:Assets written to: ./bow_best_model_binary/assets\n",
            "7281/7281 [==============================] - 3s 369us/sample - loss: 0.3090 - accuracy: 0.9577 - val_loss: 0.4882 - val_accuracy: 0.7907\n",
            "Epoch 30/40\n",
            "7200/7281 [============================>.] - ETA: 0s - loss: 0.3019 - accuracy: 0.9596INFO:tensorflow:Assets written to: ./bow_best_model_binary/assets\n",
            "7281/7281 [==============================] - 3s 366us/sample - loss: 0.3021 - accuracy: 0.9596 - val_loss: 0.4857 - val_accuracy: 0.7927\n",
            "Epoch 31/40\n",
            "7281/7281 [==============================] - 3s 348us/sample - loss: 0.2954 - accuracy: 0.9614 - val_loss: 0.4833 - val_accuracy: 0.7922\n",
            "Epoch 32/40\n",
            "7281/7281 [==============================] - 2s 329us/sample - loss: 0.2888 - accuracy: 0.9629 - val_loss: 0.4812 - val_accuracy: 0.7922\n",
            "Epoch 33/40\n",
            "7281/7281 [==============================] - 3s 344us/sample - loss: 0.2825 - accuracy: 0.9648 - val_loss: 0.4790 - val_accuracy: 0.7912\n",
            "Epoch 34/40\n",
            "7281/7281 [==============================] - 2s 339us/sample - loss: 0.2764 - accuracy: 0.9658 - val_loss: 0.4770 - val_accuracy: 0.7922\n",
            "Epoch 35/40\n",
            "7281/7281 [==============================] - 2s 341us/sample - loss: 0.2704 - accuracy: 0.9666 - val_loss: 0.4749 - val_accuracy: 0.7927\n",
            "Epoch 36/40\n",
            "7281/7281 [==============================] - 2s 343us/sample - loss: 0.2647 - accuracy: 0.9683 - val_loss: 0.4729 - val_accuracy: 0.7927\n",
            "Epoch 37/40\n",
            "7104/7281 [============================>.] - ETA: 0s - loss: 0.2591 - accuracy: 0.9696INFO:tensorflow:Assets written to: ./bow_best_model_binary/assets\n",
            "7281/7281 [==============================] - 3s 371us/sample - loss: 0.2590 - accuracy: 0.9695 - val_loss: 0.4712 - val_accuracy: 0.7931\n",
            "Epoch 38/40\n",
            "7281/7281 [==============================] - 2s 337us/sample - loss: 0.2536 - accuracy: 0.9720 - val_loss: 0.4697 - val_accuracy: 0.7931\n",
            "Epoch 39/40\n",
            "7232/7281 [============================>.] - ETA: 0s - loss: 0.2483 - accuracy: 0.9728INFO:tensorflow:Assets written to: ./bow_best_model_binary/assets\n",
            "7281/7281 [==============================] - 3s 373us/sample - loss: 0.2483 - accuracy: 0.9725 - val_loss: 0.4680 - val_accuracy: 0.7936\n",
            "Epoch 40/40\n",
            "7281/7281 [==============================] - 2s 339us/sample - loss: 0.2431 - accuracy: 0.9739 - val_loss: 0.4665 - val_accuracy: 0.7902\n"
          ],
          "name": "stdout"
        }
      ]
    },
    {
      "cell_type": "code",
      "metadata": {
        "id": "KHKqGhV36I7a",
        "colab_type": "code",
        "colab": {
          "base_uri": "https://localhost:8080/",
          "height": 283
        },
        "outputId": "4c83b4c2-2565-4ff6-812d-6eafb597252e"
      },
      "source": [
        "plt.plot(r.history['loss'], label='loss')\n",
        "plt.plot(r.history['val_loss'], label='val_loss')\n",
        "plt.xlabel('Epochs')\n",
        "plt.ylabel('Loss')\n",
        "plt.legend()\n",
        "plt.show()"
      ],
      "execution_count": null,
      "outputs": [
        {
          "output_type": "display_data",
          "data": {
            "text/plain": [
              "<Figure size 432x288 with 1 Axes>"
            ],
            "image/png": "[encoded data removed]"
          },
          "metadata": {
            "tags": [],
            "needs_background": "light"
          }
        }
      ]
    },
    {
      "cell_type": "code",
      "metadata": {
        "id": "WrC7xpBD6JDk",
        "colab_type": "code",
        "colab": {
          "base_uri": "https://localhost:8080/",
          "height": 279
        },
        "outputId": "e873a62c-b37e-416d-8ce5-9ed350f37a26"
      },
      "source": [
        "plt.plot(r.history['accuracy'], label='accuracy')\n",
        "plt.plot(r.history['val_accuracy'], label='val_accuracy')\n",
        "plt.xlabel('Epochs')\n",
        "plt.ylabel('Accuracy')\n",
        "plt.legend()\n",
        "plt.show()"
      ],
      "execution_count": null,
      "outputs": [
        {
          "output_type": "display_data",
          "data": {
            "text/plain": [
              "<Figure size 432x288 with 1 Axes>"
            ],
            "image/png": "[encoded data removed]"
          },
          "metadata": {
            "tags": [],
            "needs_background": "light"
          }
        }
      ]
    },
    {
      "cell_type": "markdown",
      "metadata": {
        "id": "QK-Hg-BRO64S",
        "colab_type": "text"
      },
      "source": [
        "The plots show that the model performed much better than the BOW model in the multiclass classification, with a validation accuracy of around 77%. It is even reasonable to affirm that the model could have been trained for more epochs. However, in order to keep the same traning parameters as in the previous task and to avoid overfitting, the number of epochs for this model was kept the same. Let's evaluate the model on the test set and get the final accuracy."
      ]
    },
    {
      "cell_type": "code",
      "metadata": {
        "id": "jOxvDHKa6JIe",
        "colab_type": "code",
        "colab": {
          "base_uri": "https://localhost:8080/",
          "height": 54
        },
        "outputId": "c1ffffe8-e989-4e05-944d-1338b0acab09"
      },
      "source": [
        "loaded_model = load_model('./bow_best_model_binary')\n",
        "loaded_model.evaluate(X_test_bow.todense(), y_test_bow)"
      ],
      "execution_count": null,
      "outputs": [
        {
          "output_type": "stream",
          "text": [
            "993/993 [==============================] - 0s 319us/sample - loss: 0.4486 - accuracy: 0.8238\n"
          ],
          "name": "stdout"
        },
        {
          "output_type": "execute_result",
          "data": {
            "text/plain": [
              "[0.4485940293362974, 0.82376635]"
            ]
          },
          "metadata": {
            "tags": []
          },
          "execution_count": 65
        }
      ]
    },
    {
      "cell_type": "markdown",
      "metadata": {
        "id": "wmtKQgXgRD-H",
        "colab_type": "text"
      },
      "source": [
        "The final accuracy is 82% which is considerably higher than the 61% obtained in the BOW model for multiclass classification. Let's check the confusion matrix."
      ]
    },
    {
      "cell_type": "code",
      "metadata": {
        "id": "QgHo0w5g6JAk",
        "colab_type": "code",
        "colab": {
          "base_uri": "https://localhost:8080/",
          "height": 366
        },
        "outputId": "e6c36aaf-f2a0-460d-ea1d-e0114c096ca4"
      },
      "source": [
        "y_pred = loaded_model.predict(X_test_bow.todense())\n",
        "cm = confusion_matrix(y_test_bow, np.where(y_pred > 0.5, 1, 0))\n",
        "plot_confusion_matrix(cm, list(range(2)))"
      ],
      "execution_count": null,
      "outputs": [
        {
          "output_type": "stream",
          "text": [
            "Confusion matrix, without normalization\n",
            "[[306 107]\n",
            " [ 68 512]]\n"
          ],
          "name": "stdout"
        },
        {
          "output_type": "display_data",
          "data": {
            "text/plain": [
              "<Figure size 432x288 with 2 Axes>"
            ],
            "image/png": "[encoded data removed]"
          },
          "metadata": {
            "tags": [],
            "needs_background": "light"
          }
        }
      ]
    },
    {
      "cell_type": "markdown",
      "metadata": {
        "id": "KtXSEkBgRrtc",
        "colab_type": "text"
      },
      "source": [
        "Looking at the secondary diagonal, the matrix shows that it was easier for the model to correctly classify drama plots than comedy plots. The result is pretty good for a simple BOW model, mainly considering the relatively small amount of used data."
      ]
    },
    {
      "cell_type": "markdown",
      "metadata": {
        "id": "nSM9drn3FSSN",
        "colab_type": "text"
      },
      "source": [
        "## Deep Learning models"
      ]
    },
    {
      "cell_type": "code",
      "metadata": {
        "id": "HAThAxk0-qz8",
        "colab_type": "code",
        "colab": {
          "base_uri": "https://localhost:8080/",
          "height": 35
        },
        "outputId": "d2bb0aa3-2f9e-456a-8daa-f1cb80eb15f9"
      },
      "source": [
        "# The Tokenizer class creates a dictionary of unique words found in the plots and assigns an integer to each word. With this, we can use them as input to the models\n",
        "tokenizer = Tokenizer()\n",
        "tokenizer.fit_on_texts(list(plots))\n",
        "\n",
        "# Getting the longest sentence. Every other sentence will be padded according to this maximum length\n",
        "max_len = np.max([len(text.split()) for text in plots])\n",
        "\n",
        "# Each plot will be converted to a list of integers (corresponding to each word in the plot)\n",
        "X = tokenizer.texts_to_sequences(list(plots))\n",
        "X = pad_sequences(X, maxlen=max_len)\n",
        "\n",
        "print(X.shape, y.shape)"
      ],
      "execution_count": null,
      "outputs": [
        {
          "output_type": "stream",
          "text": [
            "(10343, 1511) (10343,)\n"
          ],
          "name": "stdout"
        }
      ]
    },
    {
      "cell_type": "code",
      "metadata": {
        "id": "5rBLQUYz-q41",
        "colab_type": "code",
        "colab": {
          "base_uri": "https://localhost:8080/",
          "height": 35
        },
        "outputId": "e7e4a44a-fb22-4f9f-dfb2-49d4ef84204f"
      },
      "source": [
        "X_train, X_val, y_train, y_val = train_test_split(X, y, test_size=0.2, random_state=0)\n",
        "X_train, X_test, y_train, y_test = train_test_split(X_train, y_train, test_size=0.12, random_state=0)\n",
        "\n",
        "print(X_train.shape, X_val.shape, X_test.shape)"
      ],
      "execution_count": null,
      "outputs": [
        {
          "output_type": "stream",
          "text": [
            "(7281, 1511) (2069, 1511) (993, 1511)\n"
          ],
          "name": "stdout"
        }
      ]
    },
    {
      "cell_type": "code",
      "metadata": {
        "id": "f4D7KRaQ-rC6",
        "colab_type": "code",
        "colab": {
          "base_uri": "https://localhost:8080/",
          "height": 35
        },
        "outputId": "79054e32-1ad7-45af-ab31-51a37b1b5d19"
      },
      "source": [
        "word2idx = tokenizer.word_index\n",
        "V = len(word2idx)\n",
        "print('Total number of unique tokens (words) is', V)"
      ],
      "execution_count": null,
      "outputs": [
        {
          "output_type": "stream",
          "text": [
            "Total number of unique tokens (words) is 56528\n"
          ],
          "name": "stdout"
        }
      ]
    },
    {
      "cell_type": "markdown",
      "metadata": {
        "id": "IHDIxnOHGGV-",
        "colab_type": "text"
      },
      "source": [
        "### CNN model"
      ]
    },
    {
      "cell_type": "markdown",
      "metadata": {
        "id": "geHF89HYUYf2",
        "colab_type": "text"
      },
      "source": [
        "Besides the changes in the output layer and loss function (as mentioned in the BOW model section), for this model the number of training epochs was reduced to 5 due to overfitting."
      ]
    },
    {
      "cell_type": "code",
      "metadata": {
        "id": "kgi5AM9s-rJf",
        "colab_type": "code",
        "colab": {
          "base_uri": "https://localhost:8080/",
          "height": 531
        },
        "outputId": "2e926fa4-0b86-4aa4-97be-c07976b78377"
      },
      "source": [
        "D = 100 \n",
        "T = X_train.shape[1]\n",
        "\n",
        "num_classes = len(np.unique(y))\n",
        "\n",
        "i = Input(shape=(T,)) \n",
        "\n",
        "x = Embedding(V+1, D)(i) \n",
        "\n",
        "x = Conv1D(32, 3, activation='relu')(x)\n",
        "x = MaxPool1D()(x)\n",
        "\n",
        "x = Conv1D(64, 3, activation='relu')(x)\n",
        "x = MaxPool1D()(x)\n",
        "\n",
        "x = Conv1D(128, 3, activation='relu')(x)\n",
        "x = GlobalMaxPool1D()(x)\n",
        "\n",
        "x = Dropout(0.2)(x)\n",
        "\n",
        "x = Dense(1, activation='sigmoid')(x)\n",
        "\n",
        "model = Model(i, x)\n",
        "\n",
        "model.summary()"
      ],
      "execution_count": null,
      "outputs": [
        {
          "output_type": "stream",
          "text": [
            "Model: \"model_8\"\n",
            "_________________________________________________________________\n",
            "Layer (type)                 Output Shape              Param #   \n",
            "=================================================================\n",
            "input_9 (InputLayer)         [(None, 1511)]            0         \n",
            "_________________________________________________________________\n",
            "embedding_8 (Embedding)      (None, 1511, 100)         5652900   \n",
            "_________________________________________________________________\n",
            "conv1d_3 (Conv1D)            (None, 1509, 32)          9632      \n",
            "_________________________________________________________________\n",
            "max_pooling1d_2 (MaxPooling1 (None, 754, 32)           0         \n",
            "_________________________________________________________________\n",
            "conv1d_4 (Conv1D)            (None, 752, 64)           6208      \n",
            "_________________________________________________________________\n",
            "max_pooling1d_3 (MaxPooling1 (None, 376, 64)           0         \n",
            "_________________________________________________________________\n",
            "conv1d_5 (Conv1D)            (None, 374, 128)          24704     \n",
            "_________________________________________________________________\n",
            "global_max_pooling1d_8 (Glob (None, 128)               0         \n",
            "_________________________________________________________________\n",
            "dropout_8 (Dropout)          (None, 128)               0         \n",
            "_________________________________________________________________\n",
            "dense_8 (Dense)              (None, 1)                 129       \n",
            "=================================================================\n",
            "Total params: 5,693,573\n",
            "Trainable params: 5,693,573\n",
            "Non-trainable params: 0\n",
            "_________________________________________________________________\n"
          ],
          "name": "stdout"
        }
      ]
    },
    {
      "cell_type": "code",
      "metadata": {
        "id": "xkYCOECL-rOm",
        "colab_type": "code",
        "colab": {
          "base_uri": "https://localhost:8080/",
          "height": 274
        },
        "outputId": "400a43df-8bec-4442-c609-8e32ff0af46e"
      },
      "source": [
        "model.compile(optimizer='adam', loss='binary_crossentropy', metrics=['accuracy'])\n",
        "\n",
        "checkpoint_filepath = './cnn_best_model_binary'\n",
        "checkpoint_callback = ModelCheckpoint(filepath=checkpoint_filepath, monitor='val_accuracy', mode='max', save_best_only=True)\n",
        "\n",
        "r = model.fit(X_train, y_train, validation_data=(X_val, y_val), batch_size=32, epochs=5, callbacks=[checkpoint_callback])"
      ],
      "execution_count": null,
      "outputs": [
        {
          "output_type": "stream",
          "text": [
            "Train on 7281 samples, validate on 2069 samples\n",
            "Epoch 1/5\n",
            "7264/7281 [============================>.] - ETA: 0s - loss: 0.6592 - accuracy: 0.6055INFO:tensorflow:Assets written to: ./cnn_best_model_binary/assets\n",
            "7281/7281 [==============================] - 22s 3ms/sample - loss: 0.6589 - accuracy: 0.6058 - val_loss: 0.5613 - val_accuracy: 0.7177\n",
            "Epoch 2/5\n",
            "7264/7281 [============================>.] - ETA: 0s - loss: 0.4180 - accuracy: 0.8154INFO:tensorflow:Assets written to: ./cnn_best_model_binary/assets\n",
            "7281/7281 [==============================] - 20s 3ms/sample - loss: 0.4180 - accuracy: 0.8154 - val_loss: 0.5488 - val_accuracy: 0.7303\n",
            "Epoch 3/5\n",
            "7264/7281 [============================>.] - ETA: 0s - loss: 0.1128 - accuracy: 0.9599INFO:tensorflow:Assets written to: ./cnn_best_model_binary/assets\n",
            "7281/7281 [==============================] - 20s 3ms/sample - loss: 0.1130 - accuracy: 0.9598 - val_loss: 0.7385 - val_accuracy: 0.7438\n",
            "Epoch 4/5\n",
            "7281/7281 [==============================] - 19s 3ms/sample - loss: 0.0286 - accuracy: 0.9931 - val_loss: 1.1430 - val_accuracy: 0.7371\n",
            "Epoch 5/5\n",
            "7281/7281 [==============================] - 19s 3ms/sample - loss: 0.0117 - accuracy: 0.9977 - val_loss: 1.1985 - val_accuracy: 0.7100\n"
          ],
          "name": "stdout"
        }
      ]
    },
    {
      "cell_type": "code",
      "metadata": {
        "id": "Abw6Zbpo-rT7",
        "colab_type": "code",
        "colab": {
          "base_uri": "https://localhost:8080/",
          "height": 279
        },
        "outputId": "dce79d9f-f22e-4aed-f672-131cce75d427"
      },
      "source": [
        "plt.plot(r.history['loss'], label='loss')\n",
        "plt.plot(r.history['val_loss'], label='val_loss')\n",
        "plt.xlabel('Epochs')\n",
        "plt.ylabel('Loss')\n",
        "plt.legend()\n",
        "plt.show()"
      ],
      "execution_count": null,
      "outputs": [
        {
          "output_type": "display_data",
          "data": {
            "text/plain": [
              "<Figure size 432x288 with 1 Axes>"
            ],
            "image/png": "[encoded data removed]"
          },
          "metadata": {
            "tags": [],
            "needs_background": "light"
          }
        }
      ]
    },
    {
      "cell_type": "code",
      "metadata": {
        "id": "iqlSStq3-rH6",
        "colab_type": "code",
        "colab": {
          "base_uri": "https://localhost:8080/",
          "height": 279
        },
        "outputId": "6afaf5fe-3561-4ba8-df92-08f42f1107cb"
      },
      "source": [
        "plt.plot(r.history['accuracy'], label='accuracy')\n",
        "plt.plot(r.history['val_accuracy'], label='val_accuracy')\n",
        "plt.xlabel('Epochs')\n",
        "plt.ylabel('Accuracy')\n",
        "plt.legend()\n",
        "plt.show()"
      ],
      "execution_count": null,
      "outputs": [
        {
          "output_type": "display_data",
          "data": {
            "text/plain": [
              "<Figure size 432x288 with 1 Axes>"
            ],
            "image/png": "[encoded data removed]"
          },
          "metadata": {
            "tags": [],
            "needs_background": "light"
          }
        }
      ]
    },
    {
      "cell_type": "markdown",
      "metadata": {
        "id": "49JZR-U8UC4_",
        "colab_type": "text"
      },
      "source": [
        "The model overfits and presents a good validation accuracy very quickly, right after the first epoch (hence the decrease in the number of epochs). Since binary classification is an easier task than multiclass classification and that a higher amount of data is used, it was expected that a deep learning model would present good results within few epochs. Let's evaluate the model and get the final accuracy. "
      ]
    },
    {
      "cell_type": "code",
      "metadata": {
        "id": "NwjGXx1D6I6U",
        "colab_type": "code",
        "colab": {
          "base_uri": "https://localhost:8080/",
          "height": 54
        },
        "outputId": "c1f805ff-ca33-4786-8ce2-96353922a272"
      },
      "source": [
        "loaded_model = load_model('./cnn_best_model_binary')\n",
        "loaded_model.evaluate(X_test, y_test)"
      ],
      "execution_count": null,
      "outputs": [
        {
          "output_type": "stream",
          "text": [
            "993/993 [==============================] - 0s 379us/sample - loss: 0.7425 - accuracy: 0.7321\n"
          ],
          "name": "stdout"
        },
        {
          "output_type": "execute_result",
          "data": {
            "text/plain": [
              "[0.7425142218474174, 0.73212487]"
            ]
          },
          "metadata": {
            "tags": []
          },
          "execution_count": 54
        }
      ]
    },
    {
      "cell_type": "markdown",
      "metadata": {
        "id": "iNNUGriFbgHu",
        "colab_type": "text"
      },
      "source": [
        "The final accuracy is 73%, relatively worse than the one obtained with the BOW model (79%). If we compare to the multiclass classification, this difference is much lower (we had 60% for the BOW model and 46% for the CNN model), which indicates that the complexity of deep learning models contribute significantly to this task (the amount of data has increased and they benefit from it, this should be considered too).  "
      ]
    },
    {
      "cell_type": "code",
      "metadata": {
        "id": "FpHrL4mLGhz3",
        "colab_type": "code",
        "colab": {
          "base_uri": "https://localhost:8080/",
          "height": 366
        },
        "outputId": "416353ab-5aed-4693-fde5-699fd437d940"
      },
      "source": [
        "y_pred = loaded_model.predict(X_test)\n",
        "cm = confusion_matrix(y_test, np.where(y_pred > 0.5, 1,0))\n",
        "plot_confusion_matrix(cm, list(range(num_classes)))"
      ],
      "execution_count": null,
      "outputs": [
        {
          "output_type": "stream",
          "text": [
            "Confusion matrix, without normalization\n",
            "[[297 114]\n",
            " [152 430]]\n"
          ],
          "name": "stdout"
        },
        {
          "output_type": "display_data",
          "data": {
            "text/plain": [
              "<Figure size 432x288 with 2 Axes>"
            ],
            "image/png": "[encoded data removed]"
          },
          "metadata": {
            "tags": [],
            "needs_background": "light"
          }
        }
      ]
    },
    {
      "cell_type": "markdown",
      "metadata": {
        "id": "FGi_302acuID",
        "colab_type": "text"
      },
      "source": [
        "Analyzing the secondary diagonal, the confusion matrix shows that it was easier for the model to classify comedy plots than drama plots (as opposed to the situation observed in the BOW model), but the difference in the number of mislabeled samples is not really meaningful."
      ]
    },
    {
      "cell_type": "markdown",
      "metadata": {
        "id": "OFaTzncYHbNE",
        "colab_type": "text"
      },
      "source": [
        "### LSTM model"
      ]
    },
    {
      "cell_type": "markdown",
      "metadata": {
        "id": "dJvhHuYjZKEJ",
        "colab_type": "text"
      },
      "source": [
        "For this model, the same changes of the CNN model were applied."
      ]
    },
    {
      "cell_type": "code",
      "metadata": {
        "id": "P4GXWcAtGh7S",
        "colab_type": "code",
        "colab": {
          "base_uri": "https://localhost:8080/",
          "height": 384
        },
        "outputId": "68f793aa-48db-4e8f-94c2-5f43aefe8eac"
      },
      "source": [
        "D = 100 \n",
        "M = 50\n",
        "T = X_train.shape[1]\n",
        "\n",
        "num_classes = len(np.unique(y))\n",
        "\n",
        "i = Input(shape=(T,)) \n",
        "\n",
        "x = Embedding(V+1, D)(i) \n",
        "\n",
        "x = LSTM(M, return_sequences=True)(x)\n",
        "\n",
        "x = GlobalMaxPool1D()(x)\n",
        "\n",
        "x = Dropout(0.2)(x)\n",
        "\n",
        "x = Dense(1, activation='sigmoid')(x)\n",
        "\n",
        "model = Model(i, x)\n",
        "\n",
        "model.summary()"
      ],
      "execution_count": null,
      "outputs": [
        {
          "output_type": "stream",
          "text": [
            "Model: \"model_7\"\n",
            "_________________________________________________________________\n",
            "Layer (type)                 Output Shape              Param #   \n",
            "=================================================================\n",
            "input_8 (InputLayer)         [(None, 1511)]            0         \n",
            "_________________________________________________________________\n",
            "embedding_7 (Embedding)      (None, 1511, 100)         5652900   \n",
            "_________________________________________________________________\n",
            "lstm_6 (LSTM)                (None, 1511, 50)          30200     \n",
            "_________________________________________________________________\n",
            "global_max_pooling1d_7 (Glob (None, 50)                0         \n",
            "_________________________________________________________________\n",
            "dropout_7 (Dropout)          (None, 50)                0         \n",
            "_________________________________________________________________\n",
            "dense_7 (Dense)              (None, 1)                 51        \n",
            "=================================================================\n",
            "Total params: 5,683,151\n",
            "Trainable params: 5,683,151\n",
            "Non-trainable params: 0\n",
            "_________________________________________________________________\n"
          ],
          "name": "stdout"
        }
      ]
    },
    {
      "cell_type": "code",
      "metadata": {
        "id": "gDoVFf0IGh-e",
        "colab_type": "code",
        "colab": {
          "base_uri": "https://localhost:8080/",
          "height": 256
        },
        "outputId": "85dabd5a-bbe6-4faa-d5ad-6f39a6ff2d31"
      },
      "source": [
        "model.compile(optimizer='adam', loss='binary_crossentropy', metrics=['accuracy'])\n",
        "\n",
        "checkpoint_filepath = './lstm_best_model_binary'\n",
        "checkpoint_callback = ModelCheckpoint(filepath=checkpoint_filepath, monitor='val_accuracy', mode='max', save_best_only=True)\n",
        "\n",
        "r = model.fit(X_train, y_train, validation_data=(X_val, y_val), batch_size=32, epochs=5, callbacks=[checkpoint_callback])"
      ],
      "execution_count": null,
      "outputs": [
        {
          "output_type": "stream",
          "text": [
            "Train on 7281 samples, validate on 2069 samples\n",
            "Epoch 1/5\n",
            "7264/7281 [============================>.] - ETA: 0s - loss: 0.6227 - accuracy: 0.6521INFO:tensorflow:Assets written to: ./lstm_best_model_binary/assets\n",
            "7281/7281 [==============================] - 63s 9ms/sample - loss: 0.6225 - accuracy: 0.6524 - val_loss: 0.5136 - val_accuracy: 0.7535\n",
            "Epoch 2/5\n",
            "7264/7281 [============================>.] - ETA: 0s - loss: 0.3445 - accuracy: 0.8582INFO:tensorflow:Assets written to: ./lstm_best_model_binary/assets\n",
            "7281/7281 [==============================] - 59s 8ms/sample - loss: 0.3442 - accuracy: 0.8584 - val_loss: 0.5106 - val_accuracy: 0.7719\n",
            "Epoch 3/5\n",
            "7281/7281 [==============================] - 55s 8ms/sample - loss: 0.1386 - accuracy: 0.9529 - val_loss: 0.6108 - val_accuracy: 0.7569\n",
            "Epoch 4/5\n",
            "7281/7281 [==============================] - 55s 8ms/sample - loss: 0.0749 - accuracy: 0.9782 - val_loss: 0.5923 - val_accuracy: 0.7477\n",
            "Epoch 5/5\n",
            "7281/7281 [==============================] - 55s 8ms/sample - loss: 0.0479 - accuracy: 0.9857 - val_loss: 0.8996 - val_accuracy: 0.7511\n"
          ],
          "name": "stdout"
        }
      ]
    },
    {
      "cell_type": "code",
      "metadata": {
        "id": "XG8yPz4jGiDv",
        "colab_type": "code",
        "colab": {
          "base_uri": "https://localhost:8080/",
          "height": 279
        },
        "outputId": "e82ad3e4-524e-43f1-d49c-e1da0c2ea673"
      },
      "source": [
        "plt.plot(r.history['loss'], label='loss')\n",
        "plt.plot(r.history['val_loss'], label='val_loss')\n",
        "plt.xlabel('Epochs')\n",
        "plt.ylabel('Loss')\n",
        "plt.legend()\n",
        "plt.show()"
      ],
      "execution_count": null,
      "outputs": [
        {
          "output_type": "display_data",
          "data": {
            "text/plain": [
              "<Figure size 432x288 with 1 Axes>"
            ],
            "image/png": "[encoded data removed]"
          },
          "metadata": {
            "tags": [],
            "needs_background": "light"
          }
        }
      ]
    },
    {
      "cell_type": "code",
      "metadata": {
        "id": "OmaJzz9AGiJY",
        "colab_type": "code",
        "colab": {
          "base_uri": "https://localhost:8080/",
          "height": 282
        },
        "outputId": "33bb7831-1477-4e4f-dff4-73eef0f0aea2"
      },
      "source": [
        "plt.plot(r.history['accuracy'], label='accuracy')\n",
        "plt.plot(r.history['val_accuracy'], label='val_accuracy')\n",
        "plt.xlabel('Epochs')\n",
        "plt.ylabel('Accuracy')\n",
        "plt.legend()\n",
        "plt.show()"
      ],
      "execution_count": null,
      "outputs": [
        {
          "output_type": "display_data",
          "data": {
            "text/plain": [
              "<Figure size 432x288 with 1 Axes>"
            ],
            "image/png": "[encoded data removed]"
          },
          "metadata": {
            "tags": [],
            "needs_background": "light"
          }
        }
      ]
    },
    {
      "cell_type": "markdown",
      "metadata": {
        "id": "4ry2PJiSZijA",
        "colab_type": "text"
      },
      "source": [
        "Just like the CNN model, the LSTM model overfits and presents a good validation accuracy very quickly, right after the first epoch (hence the decrease in the number of epochs as well). However, a small improvement in the validation accuracy was observed. Let's evaluate the model and get the final accuracy. "
      ]
    },
    {
      "cell_type": "code",
      "metadata": {
        "id": "0pcJ6XA4GiPY",
        "colab_type": "code",
        "colab": {
          "base_uri": "https://localhost:8080/",
          "height": 54
        },
        "outputId": "92acbe8c-f92a-4b96-e6f6-7b1d001c3283"
      },
      "source": [
        "loaded_model = load_model('./lstm_best_model_binary')\n",
        "loaded_model.evaluate(X_test, y_test)"
      ],
      "execution_count": null,
      "outputs": [
        {
          "output_type": "stream",
          "text": [
            "993/993 [==============================] - 7s 7ms/sample - loss: 0.5115 - accuracy: 0.7684\n"
          ],
          "name": "stdout"
        },
        {
          "output_type": "execute_result",
          "data": {
            "text/plain": [
              "[0.51154983941792, 0.7683787]"
            ]
          },
          "metadata": {
            "tags": []
          },
          "execution_count": 47
        }
      ]
    },
    {
      "cell_type": "markdown",
      "metadata": {
        "id": "Y8R6pvlsoFYd",
        "colab_type": "text"
      },
      "source": [
        "The final accuracy is 77%, slightly better than the CNN model (73%) and very close to the BOW model (82%). As in the multiclass classification, the LSTM model showed higher accuracy than the CNN model, which supports the idea that LSTMs are generally a better option when dealing with text and other sequence data."
      ]
    },
    {
      "cell_type": "code",
      "metadata": {
        "id": "QfhAt9hsGiVX",
        "colab_type": "code",
        "colab": {
          "base_uri": "https://localhost:8080/",
          "height": 366
        },
        "outputId": "6b0919f3-5ac6-4ad9-d593-87d17067bb3d"
      },
      "source": [
        "y_pred = loaded_model.predict(X_test)\n",
        "cm = confusion_matrix(y_test, np.where(y_pred > 0.5, 1, 0))\n",
        "plot_confusion_matrix(cm, list(range(num_classes)))"
      ],
      "execution_count": null,
      "outputs": [
        {
          "output_type": "stream",
          "text": [
            "Confusion matrix, without normalization\n",
            "[[286 125]\n",
            " [105 477]]\n"
          ],
          "name": "stdout"
        },
        {
          "output_type": "display_data",
          "data": {
            "text/plain": [
              "<Figure size 432x288 with 2 Axes>"
            ],
            "image/png": "[encoded data removed]"
          },
          "metadata": {
            "tags": [],
            "needs_background": "light"
          }
        }
      ]
    },
    {
      "cell_type": "markdown",
      "metadata": {
        "id": "b0wTmj-8rziN",
        "colab_type": "text"
      },
      "source": [
        "Analyzing the secondary diagonal, the confusion matrix shows that it was easier for the model to correctly classify drama plots than comedy plots (as opposed to the situation observed in the CNN model), but once again the difference in the number of mislabeled samples is not meaningful and even smaller than in the CNN model."
      ]
    },
    {
      "cell_type": "markdown",
      "metadata": {
        "colab_type": "text",
        "id": "6mZhYss_m-4e"
      },
      "source": [
        "## Conclusion and future work\n",
        "Let's first analyze the multiclass classification task. \n",
        "\n",
        "The BOW model showed the best accuracy for this task, which was quite unexpected since the model is very simple. One possible explanation for the lower accuracies in the deep learning models is the small amount of provided data (8500 samples, still divided between train, validation and test sets). It has already been verified in many works that the amount of data used for training is of ultimate importance in the performance of deep learning models. Besides, class imbalance is also an issue. The most frequent genres have twice the number of samples of the least frequent genres, so that also jeopardizes the classification performance of both types of models.  \n",
        "\n",
        "Nevertheless, the bag of words approach has some known considerable limitations: since the representation is sparse, it implies more computational costs (memory and processing time) and makes it more difficult for the models to capture the essential information in such high dimensionality data. Another problem with this approach is that it does not take into consideration word order. Hence, the model has no notion of context or semantics, thus making it unaware of the relationship between words and impairing the interpretation.  \n",
        "\n",
        "It is worth indicating that action, horror, romance and western plots seem to have words which properly describe their respective genres and make the models distinguish them well from the plots of other genres.\n",
        "\n",
        "Now let's analyze the binary classification task. As expected, the models performed much better than in the previous task, since the number of possible classes is considerably reduced. In addition, around 2000 more samples were used when taking all comedy and drama plots. The BOW model still showed better accuracy than the deep learning models. However, the difference between accuracies was smaller in this task. As the amount of data increases, it is expected that the deep learning models eventually outperform a BOW model due to their more sophisticated feature learning and generalization capabilities. Furthermore, with more data deeper models can be used, which allows the extraction of more complex features.\n",
        "\n",
        "Even though changes in the models' structure and training parameters were experimented, none of them showed significant improvement (or no improvement at all) in the results. Here are some of these changes:\n",
        "- Lower (fixed) learning rates\n",
        "- Learning rate scheduler\n",
        "- Bidirectional LSTM\n",
        "- CNN with more layers or filter maps\n",
        "- Stacked LSTM layers\n",
        "\n",
        "As future work, some indications are:\n",
        "- Analyze the plots of drama and comedy in an attempt to understand the observed confusion between these genres in multiclass classification;\n",
        "- Experiment with different preprocessing techniques (e.g., lemmatization, add more/other stopwords, deeper analysis of the plots to remove useless words such as name of actors/actresses);\n",
        "- Perform the same classification tasks using another dataset (preferably with more data) and verify whether deep learning models in fact outperform a simple BOW model.\n"
      ]
    }
  ]
}